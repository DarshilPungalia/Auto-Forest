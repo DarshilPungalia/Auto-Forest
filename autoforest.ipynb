{
 "cells": [
  {
   "cell_type": "code",
   "execution_count": 2,
   "id": "27e642be",
   "metadata": {},
   "outputs": [],
   "source": [
    "import tensorflow as tf\n",
    "import numpy as np\n",
    "import matplotlib.pyplot as plt\n",
    "from tensorflow.keras.saving import register_keras_serializable\n",
    "from tensorflow.keras.applications import VGG19\n",
    "import datetime\n",
    "from sklearn.metrics import precision_recall_curve"
   ]
  },
  {
   "cell_type": "markdown",
   "id": "f8fed809",
   "metadata": {},
   "source": [
    "# **Testing**"
   ]
  },
  {
   "cell_type": "code",
   "execution_count": 2,
   "id": "a2dbc2f9",
   "metadata": {},
   "outputs": [],
   "source": [
    "mnist = tf.keras.datasets.mnist\n",
    "\n",
    "(x_train, y_train), (x_val, y_val) = mnist.load_data()"
   ]
  },
  {
   "cell_type": "code",
   "execution_count": 3,
   "id": "97a12e96",
   "metadata": {},
   "outputs": [],
   "source": [
    "x_train = x_train/255.0\n",
    "x_val = x_val/255.0"
   ]
  },
  {
   "cell_type": "code",
   "execution_count": 22,
   "id": "692f9669",
   "metadata": {},
   "outputs": [
    {
     "data": {
      "text/html": [
       "<pre style=\"white-space:pre;overflow-x:auto;line-height:normal;font-family:Menlo,'DejaVu Sans Mono',consolas,'Courier New',monospace\"><span style=\"font-weight: bold\">Model: \"autoencoder\"</span>\n",
       "</pre>\n"
      ],
      "text/plain": [
       "\u001b[1mModel: \"autoencoder\"\u001b[0m\n"
      ]
     },
     "metadata": {},
     "output_type": "display_data"
    },
    {
     "data": {
      "text/html": [
       "<pre style=\"white-space:pre;overflow-x:auto;line-height:normal;font-family:Menlo,'DejaVu Sans Mono',consolas,'Courier New',monospace\">┏━━━━━━━━━━━━━━━━━━━━━━━━━━━━━━━━━┳━━━━━━━━━━━━━━━━━━━━━━━━┳━━━━━━━━━━━━━━━┓\n",
       "┃<span style=\"font-weight: bold\"> Layer (type)                    </span>┃<span style=\"font-weight: bold\"> Output Shape           </span>┃<span style=\"font-weight: bold\">       Param # </span>┃\n",
       "┡━━━━━━━━━━━━━━━━━━━━━━━━━━━━━━━━━╇━━━━━━━━━━━━━━━━━━━━━━━━╇━━━━━━━━━━━━━━━┩\n",
       "│ input_layer_2 (<span style=\"color: #0087ff; text-decoration-color: #0087ff\">InputLayer</span>)      │ (<span style=\"color: #00d7ff; text-decoration-color: #00d7ff\">None</span>, <span style=\"color: #00af00; text-decoration-color: #00af00\">28</span>, <span style=\"color: #00af00; text-decoration-color: #00af00\">28</span>, <span style=\"color: #00af00; text-decoration-color: #00af00\">1</span>)      │             <span style=\"color: #00af00; text-decoration-color: #00af00\">0</span> │\n",
       "├─────────────────────────────────┼────────────────────────┼───────────────┤\n",
       "│ flatten_2 (<span style=\"color: #0087ff; text-decoration-color: #0087ff\">Flatten</span>)             │ (<span style=\"color: #00d7ff; text-decoration-color: #00d7ff\">None</span>, <span style=\"color: #00af00; text-decoration-color: #00af00\">784</span>)            │             <span style=\"color: #00af00; text-decoration-color: #00af00\">0</span> │\n",
       "├─────────────────────────────────┼────────────────────────┼───────────────┤\n",
       "│ dense_5 (<span style=\"color: #0087ff; text-decoration-color: #0087ff\">Dense</span>)                 │ (<span style=\"color: #00d7ff; text-decoration-color: #00d7ff\">None</span>, <span style=\"color: #00af00; text-decoration-color: #00af00\">256</span>)            │       <span style=\"color: #00af00; text-decoration-color: #00af00\">200,960</span> │\n",
       "├─────────────────────────────────┼────────────────────────┼───────────────┤\n",
       "│ dense_6 (<span style=\"color: #0087ff; text-decoration-color: #0087ff\">Dense</span>)                 │ (<span style=\"color: #00d7ff; text-decoration-color: #00d7ff\">None</span>, <span style=\"color: #00af00; text-decoration-color: #00af00\">128</span>)            │        <span style=\"color: #00af00; text-decoration-color: #00af00\">32,896</span> │\n",
       "├─────────────────────────────────┼────────────────────────┼───────────────┤\n",
       "│ dense_7 (<span style=\"color: #0087ff; text-decoration-color: #0087ff\">Dense</span>)                 │ (<span style=\"color: #00d7ff; text-decoration-color: #00d7ff\">None</span>, <span style=\"color: #00af00; text-decoration-color: #00af00\">784</span>)            │       <span style=\"color: #00af00; text-decoration-color: #00af00\">101,136</span> │\n",
       "├─────────────────────────────────┼────────────────────────┼───────────────┤\n",
       "│ reshape_2 (<span style=\"color: #0087ff; text-decoration-color: #0087ff\">Reshape</span>)             │ (<span style=\"color: #00d7ff; text-decoration-color: #00d7ff\">None</span>, <span style=\"color: #00af00; text-decoration-color: #00af00\">28</span>, <span style=\"color: #00af00; text-decoration-color: #00af00\">28</span>, <span style=\"color: #00af00; text-decoration-color: #00af00\">1</span>)      │             <span style=\"color: #00af00; text-decoration-color: #00af00\">0</span> │\n",
       "└─────────────────────────────────┴────────────────────────┴───────────────┘\n",
       "</pre>\n"
      ],
      "text/plain": [
       "┏━━━━━━━━━━━━━━━━━━━━━━━━━━━━━━━━━┳━━━━━━━━━━━━━━━━━━━━━━━━┳━━━━━━━━━━━━━━━┓\n",
       "┃\u001b[1m \u001b[0m\u001b[1mLayer (type)                   \u001b[0m\u001b[1m \u001b[0m┃\u001b[1m \u001b[0m\u001b[1mOutput Shape          \u001b[0m\u001b[1m \u001b[0m┃\u001b[1m \u001b[0m\u001b[1m      Param #\u001b[0m\u001b[1m \u001b[0m┃\n",
       "┡━━━━━━━━━━━━━━━━━━━━━━━━━━━━━━━━━╇━━━━━━━━━━━━━━━━━━━━━━━━╇━━━━━━━━━━━━━━━┩\n",
       "│ input_layer_2 (\u001b[38;5;33mInputLayer\u001b[0m)      │ (\u001b[38;5;45mNone\u001b[0m, \u001b[38;5;34m28\u001b[0m, \u001b[38;5;34m28\u001b[0m, \u001b[38;5;34m1\u001b[0m)      │             \u001b[38;5;34m0\u001b[0m │\n",
       "├─────────────────────────────────┼────────────────────────┼───────────────┤\n",
       "│ flatten_2 (\u001b[38;5;33mFlatten\u001b[0m)             │ (\u001b[38;5;45mNone\u001b[0m, \u001b[38;5;34m784\u001b[0m)            │             \u001b[38;5;34m0\u001b[0m │\n",
       "├─────────────────────────────────┼────────────────────────┼───────────────┤\n",
       "│ dense_5 (\u001b[38;5;33mDense\u001b[0m)                 │ (\u001b[38;5;45mNone\u001b[0m, \u001b[38;5;34m256\u001b[0m)            │       \u001b[38;5;34m200,960\u001b[0m │\n",
       "├─────────────────────────────────┼────────────────────────┼───────────────┤\n",
       "│ dense_6 (\u001b[38;5;33mDense\u001b[0m)                 │ (\u001b[38;5;45mNone\u001b[0m, \u001b[38;5;34m128\u001b[0m)            │        \u001b[38;5;34m32,896\u001b[0m │\n",
       "├─────────────────────────────────┼────────────────────────┼───────────────┤\n",
       "│ dense_7 (\u001b[38;5;33mDense\u001b[0m)                 │ (\u001b[38;5;45mNone\u001b[0m, \u001b[38;5;34m784\u001b[0m)            │       \u001b[38;5;34m101,136\u001b[0m │\n",
       "├─────────────────────────────────┼────────────────────────┼───────────────┤\n",
       "│ reshape_2 (\u001b[38;5;33mReshape\u001b[0m)             │ (\u001b[38;5;45mNone\u001b[0m, \u001b[38;5;34m28\u001b[0m, \u001b[38;5;34m28\u001b[0m, \u001b[38;5;34m1\u001b[0m)      │             \u001b[38;5;34m0\u001b[0m │\n",
       "└─────────────────────────────────┴────────────────────────┴───────────────┘\n"
      ]
     },
     "metadata": {},
     "output_type": "display_data"
    },
    {
     "data": {
      "text/html": [
       "<pre style=\"white-space:pre;overflow-x:auto;line-height:normal;font-family:Menlo,'DejaVu Sans Mono',consolas,'Courier New',monospace\"><span style=\"font-weight: bold\"> Total params: </span><span style=\"color: #00af00; text-decoration-color: #00af00\">334,992</span> (1.28 MB)\n",
       "</pre>\n"
      ],
      "text/plain": [
       "\u001b[1m Total params: \u001b[0m\u001b[38;5;34m334,992\u001b[0m (1.28 MB)\n"
      ]
     },
     "metadata": {},
     "output_type": "display_data"
    },
    {
     "data": {
      "text/html": [
       "<pre style=\"white-space:pre;overflow-x:auto;line-height:normal;font-family:Menlo,'DejaVu Sans Mono',consolas,'Courier New',monospace\"><span style=\"font-weight: bold\"> Trainable params: </span><span style=\"color: #00af00; text-decoration-color: #00af00\">334,992</span> (1.28 MB)\n",
       "</pre>\n"
      ],
      "text/plain": [
       "\u001b[1m Trainable params: \u001b[0m\u001b[38;5;34m334,992\u001b[0m (1.28 MB)\n"
      ]
     },
     "metadata": {},
     "output_type": "display_data"
    },
    {
     "data": {
      "text/html": [
       "<pre style=\"white-space:pre;overflow-x:auto;line-height:normal;font-family:Menlo,'DejaVu Sans Mono',consolas,'Courier New',monospace\"><span style=\"font-weight: bold\"> Non-trainable params: </span><span style=\"color: #00af00; text-decoration-color: #00af00\">0</span> (0.00 B)\n",
       "</pre>\n"
      ],
      "text/plain": [
       "\u001b[1m Non-trainable params: \u001b[0m\u001b[38;5;34m0\u001b[0m (0.00 B)\n"
      ]
     },
     "metadata": {},
     "output_type": "display_data"
    }
   ],
   "source": [
    "encoder_input = tf.keras.layers.Input(shape=(28,28,1))\n",
    "x = tf.keras.layers.Flatten()(encoder_input)\n",
    "encoder_output = tf.keras.layers.Dense(256, activation='relu')(x)\n",
    "\n",
    "encoder = tf.keras.Model(encoder_input, encoder_output, name='encoder')\n",
    "\n",
    "decoder_input = tf.keras.layers.Dense(128, activation='relu')(encoder_output)\n",
    "x = tf.keras.layers.Dense(784, activation='relu')(decoder_input)\n",
    "decoder_output = tf.keras.layers.Reshape((28,28,1))(x)\n",
    "\n",
    "autoencoder = tf.keras.Model(encoder_input, decoder_output, name='autoencoder')\n",
    "autoencoder.summary()"
   ]
  },
  {
   "cell_type": "code",
   "execution_count": 23,
   "id": "a9f5a7fa",
   "metadata": {},
   "outputs": [
    {
     "name": "stdout",
     "output_type": "stream",
     "text": [
      "Epoch 1/5\n",
      "\u001b[1m1875/1875\u001b[0m \u001b[32m━━━━━━━━━━━━━━━━━━━━\u001b[0m\u001b[37m\u001b[0m \u001b[1m4s\u001b[0m 2ms/step - loss: 0.0467\n",
      "Epoch 2/5\n",
      "\u001b[1m1875/1875\u001b[0m \u001b[32m━━━━━━━━━━━━━━━━━━━━\u001b[0m\u001b[37m\u001b[0m \u001b[1m3s\u001b[0m 2ms/step - loss: 0.0137\n",
      "Epoch 3/5\n",
      "\u001b[1m1875/1875\u001b[0m \u001b[32m━━━━━━━━━━━━━━━━━━━━\u001b[0m\u001b[37m\u001b[0m \u001b[1m3s\u001b[0m 2ms/step - loss: 0.0110\n",
      "Epoch 4/5\n",
      "\u001b[1m1875/1875\u001b[0m \u001b[32m━━━━━━━━━━━━━━━━━━━━\u001b[0m\u001b[37m\u001b[0m \u001b[1m3s\u001b[0m 2ms/step - loss: 0.0098\n",
      "Epoch 5/5\n",
      "\u001b[1m1875/1875\u001b[0m \u001b[32m━━━━━━━━━━━━━━━━━━━━\u001b[0m\u001b[37m\u001b[0m \u001b[1m3s\u001b[0m 2ms/step - loss: 0.0092\n"
     ]
    },
    {
     "data": {
      "text/plain": [
       "<keras.src.callbacks.history.History at 0x264ed92fe60>"
      ]
     },
     "execution_count": 23,
     "metadata": {},
     "output_type": "execute_result"
    }
   ],
   "source": [
    "autoencoder.compile(tf.keras.optimizers.Adam(learning_rate=1e-4), loss='mse')\n",
    "\n",
    "autoencoder.fit(x_train, x_train, epochs=5)"
   ]
  },
  {
   "cell_type": "code",
   "execution_count": null,
   "id": "507b9ea7",
   "metadata": {},
   "outputs": [],
   "source": [
    "test = autoencoder.predict(x_val[0].reshape(-1,28,28,1))[0]\n",
    "test.shape"
   ]
  },
  {
   "cell_type": "code",
   "execution_count": null,
   "id": "12e8d44f",
   "metadata": {},
   "outputs": [
    {
     "name": "stdout",
     "output_type": "stream",
     "text": [
      "WARNING:tensorflow:5 out of the last 11 calls to <function TensorFlowTrainer.make_predict_function.<locals>.one_step_on_data_distributed at 0x00000264EE438B80> triggered tf.function retracing. Tracing is expensive and the excessive number of tracings could be due to (1) creating @tf.function repeatedly in a loop, (2) passing tensors with different shapes, (3) passing Python objects instead of tensors. For (1), please define your @tf.function outside of the loop. For (2), @tf.function has reduce_retracing=True option that can avoid unnecessary retracing. For (3), please refer to https://www.tensorflow.org/guide/function#controlling_retracing and https://www.tensorflow.org/api_docs/python/tf/function for  more details.\n",
      "\u001b[1m1/1\u001b[0m \u001b[32m━━━━━━━━━━━━━━━━━━━━\u001b[0m\u001b[37m\u001b[0m \u001b[1m0s\u001b[0m 47ms/step\n",
      "[[1.1895545  1.0543425  0.37757194 1.0539631  0.8627418  0.8620721\n",
      "  0.6858041  0.42335752 0.9484832  1.8738371  1.3039634  0.9728574\n",
      "  0.57437897 0.6788248  0.62139046 0.23952508]\n",
      " [0.62847203 0.73789144 1.485988   0.9847955  1.682204   1.2071139\n",
      "  1.0732362  0.76858    0.8328409  1.9183947  0.7395315  1.0932549\n",
      "  0.2526654  0.43445897 0.66812736 0.8001471 ]\n",
      " [1.3007375  1.1897982  0.6567374  0.6260133  0.67630434 0.43824753\n",
      "  1.0536023  0.5620128  1.6403995  1.5772513  0.98589784 1.0816039\n",
      "  0.92581964 1.2669325  0.64806    1.1183285 ]\n",
      " [0.79394466 0.73137957 0.5503149  1.9749103  0.46771613 1.526174\n",
      "  0.         0.3214605  2.1637409  1.4301504  0.8989296  0.38788125\n",
      "  1.2992724  1.2070817  0.71106887 1.1616987 ]\n",
      " [1.9316238  0.85898054 0.51931554 0.3661218  0.81729764 0.66990536\n",
      "  0.84554416 0.43269524 0.65930575 0.8465069  0.8456151  0.8863379\n",
      "  0.73286456 0.37203297 0.35932052 0.32965052]\n",
      " [0.96879613 0.37529865 0.79998577 1.1869241  0.5910128  0.\n",
      "  1.2654687  0.7343916  1.4206066  0.73952925 0.98057956 1.280232\n",
      "  1.5943121  1.672053   1.0233893  1.0680455 ]\n",
      " [0.         0.9059694  1.2044837  0.         1.0056689  0.9302763\n",
      "  0.17191485 0.9444251  1.3121731  1.0659591  0.8027926  0.37968293\n",
      "  0.9726044  1.2036575  0.45040545 0.68326205]\n",
      " [1.1771111  0.6000497  1.1700445  0.77566767 0.09374595 2.0212843\n",
      "  1.689655   0.83066654 0.2900863  1.0137131  0.15432096 0.\n",
      "  0.90154004 0.73574865 0.         0.5523267 ]\n",
      " [1.5694945  1.253485   0.         1.5810161  0.50651294 1.4170203\n",
      "  0.33113182 0.8934125  1.220233   1.4074962  0.29943934 1.3799387\n",
      "  1.1231525  0.6593465  0.6274778  0.07625959]\n",
      " [0.6933296  0.5511387  1.4115891  0.67962915 1.117387   1.3244247\n",
      "  0.84123015 0.99293894 0.772901   0.97838604 1.5666403  0.9841893\n",
      "  0.78310025 0.8497671  0.53837574 0.8731666 ]\n",
      " [2.0803568  0.4321295  0.503473   1.0151631  0.         0.46243685\n",
      "  0.41415727 0.33544153 1.3719958  0.14172849 0.57313126 0.\n",
      "  1.0830522  0.51411766 0.17121854 0.30256215]\n",
      " [1.303141   0.92470765 0.9878034  0.3788708  0.47474986 0.79429775\n",
      "  0.52487713 0.79457515 0.5346702  0.40505728 0.47797367 0.68029064\n",
      "  0.4059624  1.0141152  0.8387303  0.        ]\n",
      " [1.5666469  0.59376    0.9224502  0.47850984 0.7939788  0.4253541\n",
      "  0.7812957  0.5435665  1.210732   1.1750066  0.9397204  0.8719386\n",
      "  0.         0.8837076  1.7005699  1.423442  ]\n",
      " [1.2406201  1.0837682  0.18891558 0.48662865 0.         2.0321531\n",
      "  0.9239305  0.9144125  0.6759596  0.17069885 0.8091851  0.33908865\n",
      "  0.92796147 0.9238211  0.28194314 1.2767515 ]\n",
      " [2.1527278  0.944757   1.4590466  0.8873891  0.645185   0.7146154\n",
      "  2.113041   0.7869098  1.6587166  1.0990417  0.86432606 0.58065134\n",
      "  0.69783294 0.7466829  0.55709594 0.2727583 ]\n",
      " [1.5733476  0.9476802  0.33065024 0.981262   0.86471474 1.2413577\n",
      "  0.32811016 1.5889392  0.6012882  1.1578505  0.7668864  1.0307003\n",
      "  1.4262848  1.0008476  1.2816089  1.2810084 ]]\n"
     ]
    },
    {
     "data": {
      "text/plain": [
       "<matplotlib.image.AxesImage at 0x264ee24a270>"
      ]
     },
     "execution_count": 25,
     "metadata": {},
     "output_type": "execute_result"
    },
    {
     "data": {
      "image/png": "[encoded data removed]",
      "text/plain": [
       "<Figure size 640x480 with 1 Axes>"
      ]
     },
     "metadata": {},
     "output_type": "display_data"
    }
   ],
   "source": [
    "encode = encoder.predict(x_val[0].reshape(-1,28,28,1))[0]\n",
    "\n",
    "print(encode.reshape((16,16)))\n",
    "plt.imshow(encode.reshape((16,16)), cmap='gray')"
   ]
  },
  {
   "cell_type": "code",
   "execution_count": 26,
   "id": "d8de3d04",
   "metadata": {},
   "outputs": [
    {
     "data": {
      "image/png": "[encoded data removed]",
      "text/plain": [
       "<Figure size 640x480 with 1 Axes>"
      ]
     },
     "metadata": {},
     "output_type": "display_data"
    }
   ],
   "source": [
    "plt.imshow(test, cmap='gray');"
   ]
  },
  {
   "cell_type": "markdown",
   "id": "558f8902",
   "metadata": {},
   "source": [
    "# **Data Preparation**"
   ]
  },
  {
   "cell_type": "code",
   "execution_count": 3,
   "id": "7a6aa183",
   "metadata": {},
   "outputs": [],
   "source": [
    "BATCH_SIZE = 96\n",
    "IMG_SIZE = (120, 120, 1)\n",
    "DIRECTORY_PATH = r\"C:\\Users\\LENOVO\\Desktop\\New folder (3)\""
   ]
  },
  {
   "cell_type": "code",
   "execution_count": 4,
   "id": "c9c4973b",
   "metadata": {},
   "outputs": [
    {
     "name": "stdout",
     "output_type": "stream",
     "text": [
      "Found 1060 files.\n"
     ]
    }
   ],
   "source": [
    "train_ds = tf.keras.utils.image_dataset_from_directory(\n",
    "    DIRECTORY_PATH,\n",
    "    seed=69,\n",
    "    color_mode='grayscale',\n",
    "    image_size=IMG_SIZE[0:2],\n",
    "    batch_size=BATCH_SIZE,\n",
    "    label_mode=None\n",
    ")\n"
   ]
  },
  {
   "cell_type": "code",
   "execution_count": 5,
   "id": "68fddb15",
   "metadata": {},
   "outputs": [
    {
     "data": {
      "text/plain": [
       "tensorflow.python.data.ops.prefetch_op._PrefetchDataset"
      ]
     },
     "execution_count": 5,
     "metadata": {},
     "output_type": "execute_result"
    }
   ],
   "source": [
    "type(train_ds)"
   ]
  },
  {
   "cell_type": "code",
   "execution_count": 51,
   "id": "acd90756",
   "metadata": {},
   "outputs": [],
   "source": [
    "def load_image_from_path(image_path, image_size=(120, 120)):\n",
    "    img = tf.keras.preprocessing.image.load_img(image_path, target_size=image_size, color_mode='grayscale')\n",
    "    img = tf.keras.preprocessing.image.img_to_array(img) / 255.0\n",
    "    return np.expand_dims(img, axis=0)\n",
    "\n",
    "def show_model_comparisons(image_path, models, model_names, image_size=(120, 120)):\n",
    "    input_img = load_image_from_path(image_path, image_size=image_size)\n",
    "\n",
    "    plt.figure(figsize=(4 * (len(models) + 1), 4))\n",
    "    plt.subplot(1, len(models) + 1, 1)\n",
    "    plt.imshow(input_img[0].squeeze(), cmap='gray')\n",
    "    plt.title(\"Original\")\n",
    "    plt.axis(\"off\")\n",
    "\n",
    "    for i, (model, name) in enumerate(zip(models, model_names)):\n",
    "        pred = model.predict(input_img)\n",
    "        plt.subplot(1, len(models) + 1, i + 2)\n",
    "        plt.imshow(pred[0].squeeze(), cmap='gray')\n",
    "        plt.title(name)\n",
    "        plt.axis(\"off\")\n",
    "\n",
    "    plt.tight_layout()\n",
    "    plt.show()"
   ]
  },
  {
   "cell_type": "code",
   "execution_count": 53,
   "id": "030a009c",
   "metadata": {},
   "outputs": [
    {
     "data": {
      "text/plain": [
       "(1, 120, 120, 1)"
      ]
     },
     "execution_count": 53,
     "metadata": {},
     "output_type": "execute_result"
    }
   ],
   "source": [
    "testImg = load_image_from_path(r\"C:\\Users\\LENOVO\\Desktop\\New folder (3)\\20250215_144302.jpg\")\n",
    "testImg.shape"
   ]
  },
  {
   "cell_type": "code",
   "execution_count": 6,
   "id": "4814f7ee",
   "metadata": {},
   "outputs": [],
   "source": [
    "FILL_MODE = 'nearest'\n",
    "VALUE_RANGE = [0.0, 1.0]\n",
    "\n",
    "augment1 = tf.keras.Sequential([\n",
    "    tf.keras.layers.RandomFlip(\"horizontal\"),\n",
    "    tf.keras.layers.RandomRotation(0.1,fill_mode=FILL_MODE),\n",
    "    tf.keras.layers.RandomZoom(0.1),\n",
    "    tf.keras.layers.RandomContrast(0.1),\n",
    "])\n",
    "\n",
    "augment2 = tf.keras.Sequential([\n",
    "    tf.keras.layers.RandomFlip(\"vertical\"),\n",
    "    tf.keras.layers.RandomBrightness((-0.5, 0.5), value_range=VALUE_RANGE),\n",
    "    tf.keras.layers.RandomTranslation((-0.2, 0.3), (-0.3, 0.2), fill_mode=FILL_MODE),\n",
    "    tf.keras.layers.RandomContrast(0.1),\n",
    "])\n",
    "\n",
    "augment3 = tf.keras.Sequential([\n",
    "    tf.keras.layers.RandomHeight(0.2),\n",
    "    tf.keras.layers.RandomBrightness((-0.35, 0.35), value_range=VALUE_RANGE),\n",
    "    tf.keras.layers.RandomRotation(0.3,fill_mode=FILL_MODE),\n",
    "    tf.keras.layers.Resizing(120, 120)\n",
    "])\n",
    "\n",
    "augment4 = tf.keras.Sequential([\n",
    "    tf.keras.layers.RandomZoom(0.1),\n",
    "    tf.keras.layers.RandomContrast(0.1)\n",
    "])\n",
    "\n",
    "augment5 = tf.keras.Sequential([\n",
    "    tf.keras.layers.RandomZoom(0.1),\n",
    "    tf.keras.layers.RandomContrast(0.1),\n",
    "    tf.keras.layers.RandomBrightness((-0.2, 0.5), value_range=VALUE_RANGE),\n",
    "])\n",
    "\n",
    "augment6 = tf.keras.Sequential([\n",
    "    tf.keras.layers.RandomFlip(\"horizontal_and_vertical\"),\n",
    "    tf.keras.layers.RandomRotation(0.25, fill_mode=FILL_MODE),\n",
    "    tf.keras.layers.RandomZoom(0.2),\n",
    "    tf.keras.layers.RandomContrast(0.2),\n",
    "    tf.keras.layers.RandomCrop(100, 100),\n",
    "    tf.keras.layers.Resizing(120, 120)\n",
    "])\n",
    "\n",
    "augment7 = tf.keras.Sequential([\n",
    "    tf.keras.layers.RandomTranslation(0.4, 0.4, fill_mode=FILL_MODE),\n",
    "    tf.keras.layers.RandomRotation(0.4, fill_mode=FILL_MODE),\n",
    "    tf.keras.layers.RandomHeight(0.3),\n",
    "    tf.keras.layers.RandomWidth(0.3),\n",
    "    tf.keras.layers.RandomBrightness((-0.5, 0.5), value_range=VALUE_RANGE),\n",
    "    tf.keras.layers.Resizing(120, 120)\n",
    "])\n",
    "\n",
    "augment8 = tf.keras.Sequential([\n",
    "    tf.keras.layers.RandomCrop(100, 100),\n",
    "    tf.keras.layers.Resizing(120, 120),\n",
    "    tf.keras.layers.RandomBrightness((-0.3, 0.3), value_range=VALUE_RANGE),\n",
    "    tf.keras.layers.RandomContrast(0.2)\n",
    "])\n",
    "\n",
    "augment9 = tf.keras.Sequential([\n",
    "    tf.keras.layers.RandomFlip(\"horizontal\"),\n",
    "    tf.keras.layers.RandomRotation(0.2, fill_mode=FILL_MODE),\n",
    "    tf.keras.layers.RandomBrightness((-0.4, 0.4), value_range=VALUE_RANGE),\n",
    "    tf.keras.layers.RandomContrast(0.3),\n",
    "    tf.keras.layers.RandomZoom((-0.3, 0.3)),\n",
    "    tf.keras.layers.Resizing(120, 120)\n",
    "])\n",
    "\n",
    "augment10 = tf.keras.Sequential([\n",
    "    tf.keras.layers.RandomFlip(\"horizontal_and_vertical\"),\n",
    "    tf.keras.layers.RandomTranslation(0.3, 0.3, fill_mode=FILL_MODE),\n",
    "    tf.keras.layers.RandomRotation(0.5, fill_mode=FILL_MODE),\n",
    "    tf.keras.layers.RandomZoom(0.3),\n",
    "    tf.keras.layers.RandomBrightness((-0.6, 0.6), value_range=VALUE_RANGE),\n",
    "    tf.keras.layers.RandomContrast(0.4),\n",
    "    tf.keras.layers.RandomCrop(110, 110),\n",
    "    tf.keras.layers.Resizing(120, 120)\n",
    "])\n",
    "\n",
    "def preprocess(pipeline = None):\n",
    "    def augment(img):\n",
    "        img = tf.cast(img, tf.float32) / 255.0\n",
    "        if pipeline is not None:\n",
    "           img =  pipeline(img)\n",
    "        return img, img\n",
    "    return augment"
   ]
  },
  {
   "cell_type": "code",
   "execution_count": 7,
   "id": "967a0261",
   "metadata": {},
   "outputs": [
    {
     "data": {
      "text/html": [
       "<pre style=\"white-space:pre;overflow-x:auto;line-height:normal;font-family:Menlo,'DejaVu Sans Mono',consolas,'Courier New',monospace\"><span style=\"font-weight: bold\">Model: \"sequential_2\"</span>\n",
       "</pre>\n"
      ],
      "text/plain": [
       "\u001b[1mModel: \"sequential_2\"\u001b[0m\n"
      ]
     },
     "metadata": {},
     "output_type": "display_data"
    },
    {
     "data": {
      "text/html": [
       "<pre style=\"white-space:pre;overflow-x:auto;line-height:normal;font-family:Menlo,'DejaVu Sans Mono',consolas,'Courier New',monospace\">┏━━━━━━━━━━━━━━━━━━━━━━━━━━━━━━━━━┳━━━━━━━━━━━━━━━━━━━━━━━━┳━━━━━━━━━━━━━━━┓\n",
       "┃<span style=\"font-weight: bold\"> Layer (type)                    </span>┃<span style=\"font-weight: bold\"> Output Shape           </span>┃<span style=\"font-weight: bold\">       Param # </span>┃\n",
       "┡━━━━━━━━━━━━━━━━━━━━━━━━━━━━━━━━━╇━━━━━━━━━━━━━━━━━━━━━━━━╇━━━━━━━━━━━━━━━┩\n",
       "│ random_height (<span style=\"color: #0087ff; text-decoration-color: #0087ff\">RandomHeight</span>)    │ ?                      │   <span style=\"color: #00af00; text-decoration-color: #00af00\">0</span> (unbuilt) │\n",
       "├─────────────────────────────────┼────────────────────────┼───────────────┤\n",
       "│ random_brightness_1             │ ?                      │   <span style=\"color: #00af00; text-decoration-color: #00af00\">0</span> (unbuilt) │\n",
       "│ (<span style=\"color: #0087ff; text-decoration-color: #0087ff\">RandomBrightness</span>)              │                        │               │\n",
       "├─────────────────────────────────┼────────────────────────┼───────────────┤\n",
       "│ random_rotation_1               │ ?                      │   <span style=\"color: #00af00; text-decoration-color: #00af00\">0</span> (unbuilt) │\n",
       "│ (<span style=\"color: #0087ff; text-decoration-color: #0087ff\">RandomRotation</span>)                │                        │               │\n",
       "├─────────────────────────────────┼────────────────────────┼───────────────┤\n",
       "│ resizing (<span style=\"color: #0087ff; text-decoration-color: #0087ff\">Resizing</span>)             │ ?                      │   <span style=\"color: #00af00; text-decoration-color: #00af00\">0</span> (unbuilt) │\n",
       "└─────────────────────────────────┴────────────────────────┴───────────────┘\n",
       "</pre>\n"
      ],
      "text/plain": [
       "┏━━━━━━━━━━━━━━━━━━━━━━━━━━━━━━━━━┳━━━━━━━━━━━━━━━━━━━━━━━━┳━━━━━━━━━━━━━━━┓\n",
       "┃\u001b[1m \u001b[0m\u001b[1mLayer (type)                   \u001b[0m\u001b[1m \u001b[0m┃\u001b[1m \u001b[0m\u001b[1mOutput Shape          \u001b[0m\u001b[1m \u001b[0m┃\u001b[1m \u001b[0m\u001b[1m      Param #\u001b[0m\u001b[1m \u001b[0m┃\n",
       "┡━━━━━━━━━━━━━━━━━━━━━━━━━━━━━━━━━╇━━━━━━━━━━━━━━━━━━━━━━━━╇━━━━━━━━━━━━━━━┩\n",
       "│ random_height (\u001b[38;5;33mRandomHeight\u001b[0m)    │ ?                      │   \u001b[38;5;34m0\u001b[0m (unbuilt) │\n",
       "├─────────────────────────────────┼────────────────────────┼───────────────┤\n",
       "│ random_brightness_1             │ ?                      │   \u001b[38;5;34m0\u001b[0m (unbuilt) │\n",
       "│ (\u001b[38;5;33mRandomBrightness\u001b[0m)              │                        │               │\n",
       "├─────────────────────────────────┼────────────────────────┼───────────────┤\n",
       "│ random_rotation_1               │ ?                      │   \u001b[38;5;34m0\u001b[0m (unbuilt) │\n",
       "│ (\u001b[38;5;33mRandomRotation\u001b[0m)                │                        │               │\n",
       "├─────────────────────────────────┼────────────────────────┼───────────────┤\n",
       "│ resizing (\u001b[38;5;33mResizing\u001b[0m)             │ ?                      │   \u001b[38;5;34m0\u001b[0m (unbuilt) │\n",
       "└─────────────────────────────────┴────────────────────────┴───────────────┘\n"
      ]
     },
     "metadata": {},
     "output_type": "display_data"
    },
    {
     "data": {
      "text/html": [
       "<pre style=\"white-space:pre;overflow-x:auto;line-height:normal;font-family:Menlo,'DejaVu Sans Mono',consolas,'Courier New',monospace\"><span style=\"font-weight: bold\"> Total params: </span><span style=\"color: #00af00; text-decoration-color: #00af00\">0</span> (0.00 B)\n",
       "</pre>\n"
      ],
      "text/plain": [
       "\u001b[1m Total params: \u001b[0m\u001b[38;5;34m0\u001b[0m (0.00 B)\n"
      ]
     },
     "metadata": {},
     "output_type": "display_data"
    },
    {
     "data": {
      "text/html": [
       "<pre style=\"white-space:pre;overflow-x:auto;line-height:normal;font-family:Menlo,'DejaVu Sans Mono',consolas,'Courier New',monospace\"><span style=\"font-weight: bold\"> Trainable params: </span><span style=\"color: #00af00; text-decoration-color: #00af00\">0</span> (0.00 B)\n",
       "</pre>\n"
      ],
      "text/plain": [
       "\u001b[1m Trainable params: \u001b[0m\u001b[38;5;34m0\u001b[0m (0.00 B)\n"
      ]
     },
     "metadata": {},
     "output_type": "display_data"
    },
    {
     "data": {
      "text/html": [
       "<pre style=\"white-space:pre;overflow-x:auto;line-height:normal;font-family:Menlo,'DejaVu Sans Mono',consolas,'Courier New',monospace\"><span style=\"font-weight: bold\"> Non-trainable params: </span><span style=\"color: #00af00; text-decoration-color: #00af00\">0</span> (0.00 B)\n",
       "</pre>\n"
      ],
      "text/plain": [
       "\u001b[1m Non-trainable params: \u001b[0m\u001b[38;5;34m0\u001b[0m (0.00 B)\n"
      ]
     },
     "metadata": {},
     "output_type": "display_data"
    }
   ],
   "source": [
    "augment3.summary()"
   ]
  },
  {
   "cell_type": "code",
   "execution_count": 8,
   "id": "3e325f2e",
   "metadata": {},
   "outputs": [],
   "source": [
    "augments = [augment1, augment2, augment3, augment4, augment5, augment10, augment9, augment8, augment7, augment6]\n",
    "\n",
    "def dataset_preparation(base_ds, augmentations, preprocess_fn, seed=12):\n",
    "    \"\"\"\n",
    "    Applies multiple augmentations to a dataset and returns a shuffled, preprocessed dataset.\n",
    "\n",
    "    Args:\n",
    "        base_ds (tf.data.Dataset): Original dataset from image_dataset_from_directory.\n",
    "        augmentations (list): List of augmentation functions.\n",
    "        preprocess_fn (callable): A wrapper function that applies augmentation.\n",
    "        seed (int): Seed for consistent shuffling.\n",
    "\n",
    "    Returns:\n",
    "        tf.data.Dataset: Combined and shuffled dataset with all augmentations + original.\n",
    "    \"\"\"\n",
    "    augmented_datasets = [\n",
    "        base_ds.map(preprocess_fn(aug), num_parallel_calls=tf.data.AUTOTUNE)\n",
    "        for aug in augmentations\n",
    "    ]\n",
    "\n",
    "    original_dataset = base_ds.map(preprocess_fn(), num_parallel_calls=tf.data.AUTOTUNE)\n",
    "\n",
    "    combined_dataset = augmented_datasets + [original_dataset]\n",
    "\n",
    "    combined = tf.data.Dataset.sample_from_datasets(combined_dataset, seed=seed)\n",
    "    return combined.shuffle(buffer_size=len(base_ds), seed=seed).prefetch(tf.data.AUTOTUNE)\n"
   ]
  },
  {
   "cell_type": "code",
   "execution_count": 9,
   "id": "c33a725b",
   "metadata": {},
   "outputs": [
    {
     "data": {
      "text/plain": [
       "<_PrefetchDataset element_spec=(TensorSpec(shape=(None, 120, 120, 1), dtype=tf.float32, name=None), TensorSpec(shape=(None, 120, 120, 1), dtype=tf.float32, name=None))>"
      ]
     },
     "execution_count": 9,
     "metadata": {},
     "output_type": "execute_result"
    }
   ],
   "source": [
    "trainData = dataset_preparation(train_ds, augments, preprocess)\n",
    "trainData"
   ]
  },
  {
   "cell_type": "markdown",
   "id": "3916779c",
   "metadata": {},
   "source": [
    "# **Loss Functions**"
   ]
  },
  {
   "cell_type": "code",
   "execution_count": 11,
   "id": "572d4931",
   "metadata": {},
   "outputs": [],
   "source": [
    "vgg = VGG19(include_top=False, weights='imagenet', input_shape=(120, 120, 3))\n",
    "vgg.trainable = False\n",
    "feature_extractor = tf.keras.Model(inputs=vgg.input, outputs=vgg.get_layer('block3_conv3').output)\n",
    "\n",
    "@tf.keras.utils.register_keras_serializable()\n",
    "def perceptual_loss(y_true, y_pred):\n",
    "    y_true_rgb = tf.image.grayscale_to_rgb(y_true)\n",
    "    y_pred_rgb = tf.image.grayscale_to_rgb(y_pred)\n",
    "    true_features = feature_extractor(y_true_rgb)\n",
    "    pred_features = feature_extractor(y_pred_rgb)\n",
    "    return tf.reduce_mean(tf.abs(true_features - pred_features))\n"
   ]
  },
  {
   "cell_type": "code",
   "execution_count": 10,
   "id": "9f70d7f8",
   "metadata": {},
   "outputs": [],
   "source": [
    "@register_keras_serializable()\n",
    "def mean_similarity(y_true, y_pred):\n",
    "    mse = tf.reduce_mean(tf.square(y_true - y_pred))\n",
    "    ssim = tf.reduce_mean(tf.image.ssim(y_true, y_pred, max_val=1.0))\n",
    "    return mse + (1 - ssim)*0.4\n",
    "\n",
    "\n",
    "def mean_crossentropy(y_true, y_pred):\n",
    "    bce = tf.reduce_mean(tf.keras.losses.binary_crossentropy(y_true, y_pred), axis=[1,2])\n",
    "    mse = tf.reduce_mean(tf.square(y_true - y_pred), axis=[1, 2, 3])\n",
    "    return 0.45 * bce + 0.55 * mse\n",
    "\n",
    "@register_keras_serializable()\n",
    "def cross_similarity(y_true, y_pred):\n",
    "    bce = tf.keras.losses.binary_crossentropy(y_true, y_pred)\n",
    "    ssim = tf.reduce_mean(tf.image.ssim(y_true, y_pred, max_val=1.0))\n",
    "    return bce*0.6 + (1 - ssim)*0.4"
   ]
  },
  {
   "cell_type": "markdown",
   "id": "0dfc8765",
   "metadata": {},
   "source": [
    "# **Model Training**"
   ]
  },
  {
   "cell_type": "code",
   "execution_count": 13,
   "id": "86320032",
   "metadata": {},
   "outputs": [],
   "source": [
    "input_img = tf.keras.layers.Input(shape=IMG_SIZE)"
   ]
  },
  {
   "cell_type": "markdown",
   "id": "fffed7e7",
   "metadata": {},
   "source": [
    "##  **1. Test Encoder**"
   ]
  },
  {
   "cell_type": "code",
   "execution_count": 20,
   "id": "e52ffd21",
   "metadata": {},
   "outputs": [
    {
     "data": {
      "text/html": [
       "<pre style=\"white-space:pre;overflow-x:auto;line-height:normal;font-family:Menlo,'DejaVu Sans Mono',consolas,'Courier New',monospace\"><span style=\"font-weight: bold\">Model: \"autoencoder\"</span>\n",
       "</pre>\n"
      ],
      "text/plain": [
       "\u001b[1mModel: \"autoencoder\"\u001b[0m\n"
      ]
     },
     "metadata": {},
     "output_type": "display_data"
    },
    {
     "data": {
      "text/html": [
       "<pre style=\"white-space:pre;overflow-x:auto;line-height:normal;font-family:Menlo,'DejaVu Sans Mono',consolas,'Courier New',monospace\">┏━━━━━━━━━━━━━━━━━━━━━━━━━━━━━━━━━┳━━━━━━━━━━━━━━━━━━━━━━━━┳━━━━━━━━━━━━━━━┓\n",
       "┃<span style=\"font-weight: bold\"> Layer (type)                    </span>┃<span style=\"font-weight: bold\"> Output Shape           </span>┃<span style=\"font-weight: bold\">       Param # </span>┃\n",
       "┡━━━━━━━━━━━━━━━━━━━━━━━━━━━━━━━━━╇━━━━━━━━━━━━━━━━━━━━━━━━╇━━━━━━━━━━━━━━━┩\n",
       "│ input_layer_10 (<span style=\"color: #0087ff; text-decoration-color: #0087ff\">InputLayer</span>)     │ (<span style=\"color: #00d7ff; text-decoration-color: #00d7ff\">None</span>, <span style=\"color: #00af00; text-decoration-color: #00af00\">120</span>, <span style=\"color: #00af00; text-decoration-color: #00af00\">120</span>, <span style=\"color: #00af00; text-decoration-color: #00af00\">1</span>)    │             <span style=\"color: #00af00; text-decoration-color: #00af00\">0</span> │\n",
       "├─────────────────────────────────┼────────────────────────┼───────────────┤\n",
       "│ conv2d_15 (<span style=\"color: #0087ff; text-decoration-color: #0087ff\">Conv2D</span>)              │ (<span style=\"color: #00d7ff; text-decoration-color: #00d7ff\">None</span>, <span style=\"color: #00af00; text-decoration-color: #00af00\">120</span>, <span style=\"color: #00af00; text-decoration-color: #00af00\">120</span>, <span style=\"color: #00af00; text-decoration-color: #00af00\">32</span>)   │         <span style=\"color: #00af00; text-decoration-color: #00af00\">3,904</span> │\n",
       "├─────────────────────────────────┼────────────────────────┼───────────────┤\n",
       "│ batch_normalization             │ (<span style=\"color: #00d7ff; text-decoration-color: #00d7ff\">None</span>, <span style=\"color: #00af00; text-decoration-color: #00af00\">120</span>, <span style=\"color: #00af00; text-decoration-color: #00af00\">120</span>, <span style=\"color: #00af00; text-decoration-color: #00af00\">32</span>)   │           <span style=\"color: #00af00; text-decoration-color: #00af00\">128</span> │\n",
       "│ (<span style=\"color: #0087ff; text-decoration-color: #0087ff\">BatchNormalization</span>)            │                        │               │\n",
       "├─────────────────────────────────┼────────────────────────┼───────────────┤\n",
       "│ max_pooling2d_3 (<span style=\"color: #0087ff; text-decoration-color: #0087ff\">MaxPooling2D</span>)  │ (<span style=\"color: #00d7ff; text-decoration-color: #00d7ff\">None</span>, <span style=\"color: #00af00; text-decoration-color: #00af00\">60</span>, <span style=\"color: #00af00; text-decoration-color: #00af00\">60</span>, <span style=\"color: #00af00; text-decoration-color: #00af00\">32</span>)     │             <span style=\"color: #00af00; text-decoration-color: #00af00\">0</span> │\n",
       "├─────────────────────────────────┼────────────────────────┼───────────────┤\n",
       "│ conv2d_16 (<span style=\"color: #0087ff; text-decoration-color: #0087ff\">Conv2D</span>)              │ (<span style=\"color: #00d7ff; text-decoration-color: #00d7ff\">None</span>, <span style=\"color: #00af00; text-decoration-color: #00af00\">60</span>, <span style=\"color: #00af00; text-decoration-color: #00af00\">60</span>, <span style=\"color: #00af00; text-decoration-color: #00af00\">64</span>)     │       <span style=\"color: #00af00; text-decoration-color: #00af00\">100,416</span> │\n",
       "├─────────────────────────────────┼────────────────────────┼───────────────┤\n",
       "│ batch_normalization_1           │ (<span style=\"color: #00d7ff; text-decoration-color: #00d7ff\">None</span>, <span style=\"color: #00af00; text-decoration-color: #00af00\">60</span>, <span style=\"color: #00af00; text-decoration-color: #00af00\">60</span>, <span style=\"color: #00af00; text-decoration-color: #00af00\">64</span>)     │           <span style=\"color: #00af00; text-decoration-color: #00af00\">256</span> │\n",
       "│ (<span style=\"color: #0087ff; text-decoration-color: #0087ff\">BatchNormalization</span>)            │                        │               │\n",
       "├─────────────────────────────────┼────────────────────────┼───────────────┤\n",
       "│ max_pooling2d_4 (<span style=\"color: #0087ff; text-decoration-color: #0087ff\">MaxPooling2D</span>)  │ (<span style=\"color: #00d7ff; text-decoration-color: #00d7ff\">None</span>, <span style=\"color: #00af00; text-decoration-color: #00af00\">30</span>, <span style=\"color: #00af00; text-decoration-color: #00af00\">30</span>, <span style=\"color: #00af00; text-decoration-color: #00af00\">64</span>)     │             <span style=\"color: #00af00; text-decoration-color: #00af00\">0</span> │\n",
       "├─────────────────────────────────┼────────────────────────┼───────────────┤\n",
       "│ conv2d_17 (<span style=\"color: #0087ff; text-decoration-color: #0087ff\">Conv2D</span>)              │ (<span style=\"color: #00d7ff; text-decoration-color: #00d7ff\">None</span>, <span style=\"color: #00af00; text-decoration-color: #00af00\">30</span>, <span style=\"color: #00af00; text-decoration-color: #00af00\">30</span>, <span style=\"color: #00af00; text-decoration-color: #00af00\">128</span>)    │        <span style=\"color: #00af00; text-decoration-color: #00af00\">73,856</span> │\n",
       "├─────────────────────────────────┼────────────────────────┼───────────────┤\n",
       "│ batch_normalization_2           │ (<span style=\"color: #00d7ff; text-decoration-color: #00d7ff\">None</span>, <span style=\"color: #00af00; text-decoration-color: #00af00\">30</span>, <span style=\"color: #00af00; text-decoration-color: #00af00\">30</span>, <span style=\"color: #00af00; text-decoration-color: #00af00\">128</span>)    │           <span style=\"color: #00af00; text-decoration-color: #00af00\">512</span> │\n",
       "│ (<span style=\"color: #0087ff; text-decoration-color: #0087ff\">BatchNormalization</span>)            │                        │               │\n",
       "├─────────────────────────────────┼────────────────────────┼───────────────┤\n",
       "│ max_pooling2d_5 (<span style=\"color: #0087ff; text-decoration-color: #0087ff\">MaxPooling2D</span>)  │ (<span style=\"color: #00d7ff; text-decoration-color: #00d7ff\">None</span>, <span style=\"color: #00af00; text-decoration-color: #00af00\">15</span>, <span style=\"color: #00af00; text-decoration-color: #00af00\">15</span>, <span style=\"color: #00af00; text-decoration-color: #00af00\">128</span>)    │             <span style=\"color: #00af00; text-decoration-color: #00af00\">0</span> │\n",
       "├─────────────────────────────────┼────────────────────────┼───────────────┤\n",
       "│ conv2d_transpose_3              │ (<span style=\"color: #00d7ff; text-decoration-color: #00d7ff\">None</span>, <span style=\"color: #00af00; text-decoration-color: #00af00\">30</span>, <span style=\"color: #00af00; text-decoration-color: #00af00\">30</span>, <span style=\"color: #00af00; text-decoration-color: #00af00\">128</span>)    │       <span style=\"color: #00af00; text-decoration-color: #00af00\">147,584</span> │\n",
       "│ (<span style=\"color: #0087ff; text-decoration-color: #0087ff\">Conv2DTranspose</span>)               │                        │               │\n",
       "├─────────────────────────────────┼────────────────────────┼───────────────┤\n",
       "│ batch_normalization_3           │ (<span style=\"color: #00d7ff; text-decoration-color: #00d7ff\">None</span>, <span style=\"color: #00af00; text-decoration-color: #00af00\">30</span>, <span style=\"color: #00af00; text-decoration-color: #00af00\">30</span>, <span style=\"color: #00af00; text-decoration-color: #00af00\">128</span>)    │           <span style=\"color: #00af00; text-decoration-color: #00af00\">512</span> │\n",
       "│ (<span style=\"color: #0087ff; text-decoration-color: #0087ff\">BatchNormalization</span>)            │                        │               │\n",
       "├─────────────────────────────────┼────────────────────────┼───────────────┤\n",
       "│ conv2d_transpose_4              │ (<span style=\"color: #00d7ff; text-decoration-color: #00d7ff\">None</span>, <span style=\"color: #00af00; text-decoration-color: #00af00\">60</span>, <span style=\"color: #00af00; text-decoration-color: #00af00\">60</span>, <span style=\"color: #00af00; text-decoration-color: #00af00\">64</span>)     │        <span style=\"color: #00af00; text-decoration-color: #00af00\">73,792</span> │\n",
       "│ (<span style=\"color: #0087ff; text-decoration-color: #0087ff\">Conv2DTranspose</span>)               │                        │               │\n",
       "├─────────────────────────────────┼────────────────────────┼───────────────┤\n",
       "│ batch_normalization_4           │ (<span style=\"color: #00d7ff; text-decoration-color: #00d7ff\">None</span>, <span style=\"color: #00af00; text-decoration-color: #00af00\">60</span>, <span style=\"color: #00af00; text-decoration-color: #00af00\">60</span>, <span style=\"color: #00af00; text-decoration-color: #00af00\">64</span>)     │           <span style=\"color: #00af00; text-decoration-color: #00af00\">256</span> │\n",
       "│ (<span style=\"color: #0087ff; text-decoration-color: #0087ff\">BatchNormalization</span>)            │                        │               │\n",
       "├─────────────────────────────────┼────────────────────────┼───────────────┤\n",
       "│ conv2d_transpose_5              │ (<span style=\"color: #00d7ff; text-decoration-color: #00d7ff\">None</span>, <span style=\"color: #00af00; text-decoration-color: #00af00\">120</span>, <span style=\"color: #00af00; text-decoration-color: #00af00\">120</span>, <span style=\"color: #00af00; text-decoration-color: #00af00\">32</span>)   │        <span style=\"color: #00af00; text-decoration-color: #00af00\">18,464</span> │\n",
       "│ (<span style=\"color: #0087ff; text-decoration-color: #0087ff\">Conv2DTranspose</span>)               │                        │               │\n",
       "├─────────────────────────────────┼────────────────────────┼───────────────┤\n",
       "│ batch_normalization_5           │ (<span style=\"color: #00d7ff; text-decoration-color: #00d7ff\">None</span>, <span style=\"color: #00af00; text-decoration-color: #00af00\">120</span>, <span style=\"color: #00af00; text-decoration-color: #00af00\">120</span>, <span style=\"color: #00af00; text-decoration-color: #00af00\">32</span>)   │           <span style=\"color: #00af00; text-decoration-color: #00af00\">128</span> │\n",
       "│ (<span style=\"color: #0087ff; text-decoration-color: #0087ff\">BatchNormalization</span>)            │                        │               │\n",
       "├─────────────────────────────────┼────────────────────────┼───────────────┤\n",
       "│ conv2d_18 (<span style=\"color: #0087ff; text-decoration-color: #0087ff\">Conv2D</span>)              │ (<span style=\"color: #00d7ff; text-decoration-color: #00d7ff\">None</span>, <span style=\"color: #00af00; text-decoration-color: #00af00\">120</span>, <span style=\"color: #00af00; text-decoration-color: #00af00\">120</span>, <span style=\"color: #00af00; text-decoration-color: #00af00\">1</span>)    │           <span style=\"color: #00af00; text-decoration-color: #00af00\">289</span> │\n",
       "└─────────────────────────────────┴────────────────────────┴───────────────┘\n",
       "</pre>\n"
      ],
      "text/plain": [
       "┏━━━━━━━━━━━━━━━━━━━━━━━━━━━━━━━━━┳━━━━━━━━━━━━━━━━━━━━━━━━┳━━━━━━━━━━━━━━━┓\n",
       "┃\u001b[1m \u001b[0m\u001b[1mLayer (type)                   \u001b[0m\u001b[1m \u001b[0m┃\u001b[1m \u001b[0m\u001b[1mOutput Shape          \u001b[0m\u001b[1m \u001b[0m┃\u001b[1m \u001b[0m\u001b[1m      Param #\u001b[0m\u001b[1m \u001b[0m┃\n",
       "┡━━━━━━━━━━━━━━━━━━━━━━━━━━━━━━━━━╇━━━━━━━━━━━━━━━━━━━━━━━━╇━━━━━━━━━━━━━━━┩\n",
       "│ input_layer_10 (\u001b[38;5;33mInputLayer\u001b[0m)     │ (\u001b[38;5;45mNone\u001b[0m, \u001b[38;5;34m120\u001b[0m, \u001b[38;5;34m120\u001b[0m, \u001b[38;5;34m1\u001b[0m)    │             \u001b[38;5;34m0\u001b[0m │\n",
       "├─────────────────────────────────┼────────────────────────┼───────────────┤\n",
       "│ conv2d_15 (\u001b[38;5;33mConv2D\u001b[0m)              │ (\u001b[38;5;45mNone\u001b[0m, \u001b[38;5;34m120\u001b[0m, \u001b[38;5;34m120\u001b[0m, \u001b[38;5;34m32\u001b[0m)   │         \u001b[38;5;34m3,904\u001b[0m │\n",
       "├─────────────────────────────────┼────────────────────────┼───────────────┤\n",
       "│ batch_normalization             │ (\u001b[38;5;45mNone\u001b[0m, \u001b[38;5;34m120\u001b[0m, \u001b[38;5;34m120\u001b[0m, \u001b[38;5;34m32\u001b[0m)   │           \u001b[38;5;34m128\u001b[0m │\n",
       "│ (\u001b[38;5;33mBatchNormalization\u001b[0m)            │                        │               │\n",
       "├─────────────────────────────────┼────────────────────────┼───────────────┤\n",
       "│ max_pooling2d_3 (\u001b[38;5;33mMaxPooling2D\u001b[0m)  │ (\u001b[38;5;45mNone\u001b[0m, \u001b[38;5;34m60\u001b[0m, \u001b[38;5;34m60\u001b[0m, \u001b[38;5;34m32\u001b[0m)     │             \u001b[38;5;34m0\u001b[0m │\n",
       "├─────────────────────────────────┼────────────────────────┼───────────────┤\n",
       "│ conv2d_16 (\u001b[38;5;33mConv2D\u001b[0m)              │ (\u001b[38;5;45mNone\u001b[0m, \u001b[38;5;34m60\u001b[0m, \u001b[38;5;34m60\u001b[0m, \u001b[38;5;34m64\u001b[0m)     │       \u001b[38;5;34m100,416\u001b[0m │\n",
       "├─────────────────────────────────┼────────────────────────┼───────────────┤\n",
       "│ batch_normalization_1           │ (\u001b[38;5;45mNone\u001b[0m, \u001b[38;5;34m60\u001b[0m, \u001b[38;5;34m60\u001b[0m, \u001b[38;5;34m64\u001b[0m)     │           \u001b[38;5;34m256\u001b[0m │\n",
       "│ (\u001b[38;5;33mBatchNormalization\u001b[0m)            │                        │               │\n",
       "├─────────────────────────────────┼────────────────────────┼───────────────┤\n",
       "│ max_pooling2d_4 (\u001b[38;5;33mMaxPooling2D\u001b[0m)  │ (\u001b[38;5;45mNone\u001b[0m, \u001b[38;5;34m30\u001b[0m, \u001b[38;5;34m30\u001b[0m, \u001b[38;5;34m64\u001b[0m)     │             \u001b[38;5;34m0\u001b[0m │\n",
       "├─────────────────────────────────┼────────────────────────┼───────────────┤\n",
       "│ conv2d_17 (\u001b[38;5;33mConv2D\u001b[0m)              │ (\u001b[38;5;45mNone\u001b[0m, \u001b[38;5;34m30\u001b[0m, \u001b[38;5;34m30\u001b[0m, \u001b[38;5;34m128\u001b[0m)    │        \u001b[38;5;34m73,856\u001b[0m │\n",
       "├─────────────────────────────────┼────────────────────────┼───────────────┤\n",
       "│ batch_normalization_2           │ (\u001b[38;5;45mNone\u001b[0m, \u001b[38;5;34m30\u001b[0m, \u001b[38;5;34m30\u001b[0m, \u001b[38;5;34m128\u001b[0m)    │           \u001b[38;5;34m512\u001b[0m │\n",
       "│ (\u001b[38;5;33mBatchNormalization\u001b[0m)            │                        │               │\n",
       "├─────────────────────────────────┼────────────────────────┼───────────────┤\n",
       "│ max_pooling2d_5 (\u001b[38;5;33mMaxPooling2D\u001b[0m)  │ (\u001b[38;5;45mNone\u001b[0m, \u001b[38;5;34m15\u001b[0m, \u001b[38;5;34m15\u001b[0m, \u001b[38;5;34m128\u001b[0m)    │             \u001b[38;5;34m0\u001b[0m │\n",
       "├─────────────────────────────────┼────────────────────────┼───────────────┤\n",
       "│ conv2d_transpose_3              │ (\u001b[38;5;45mNone\u001b[0m, \u001b[38;5;34m30\u001b[0m, \u001b[38;5;34m30\u001b[0m, \u001b[38;5;34m128\u001b[0m)    │       \u001b[38;5;34m147,584\u001b[0m │\n",
       "│ (\u001b[38;5;33mConv2DTranspose\u001b[0m)               │                        │               │\n",
       "├─────────────────────────────────┼────────────────────────┼───────────────┤\n",
       "│ batch_normalization_3           │ (\u001b[38;5;45mNone\u001b[0m, \u001b[38;5;34m30\u001b[0m, \u001b[38;5;34m30\u001b[0m, \u001b[38;5;34m128\u001b[0m)    │           \u001b[38;5;34m512\u001b[0m │\n",
       "│ (\u001b[38;5;33mBatchNormalization\u001b[0m)            │                        │               │\n",
       "├─────────────────────────────────┼────────────────────────┼───────────────┤\n",
       "│ conv2d_transpose_4              │ (\u001b[38;5;45mNone\u001b[0m, \u001b[38;5;34m60\u001b[0m, \u001b[38;5;34m60\u001b[0m, \u001b[38;5;34m64\u001b[0m)     │        \u001b[38;5;34m73,792\u001b[0m │\n",
       "│ (\u001b[38;5;33mConv2DTranspose\u001b[0m)               │                        │               │\n",
       "├─────────────────────────────────┼────────────────────────┼───────────────┤\n",
       "│ batch_normalization_4           │ (\u001b[38;5;45mNone\u001b[0m, \u001b[38;5;34m60\u001b[0m, \u001b[38;5;34m60\u001b[0m, \u001b[38;5;34m64\u001b[0m)     │           \u001b[38;5;34m256\u001b[0m │\n",
       "│ (\u001b[38;5;33mBatchNormalization\u001b[0m)            │                        │               │\n",
       "├─────────────────────────────────┼────────────────────────┼───────────────┤\n",
       "│ conv2d_transpose_5              │ (\u001b[38;5;45mNone\u001b[0m, \u001b[38;5;34m120\u001b[0m, \u001b[38;5;34m120\u001b[0m, \u001b[38;5;34m32\u001b[0m)   │        \u001b[38;5;34m18,464\u001b[0m │\n",
       "│ (\u001b[38;5;33mConv2DTranspose\u001b[0m)               │                        │               │\n",
       "├─────────────────────────────────┼────────────────────────┼───────────────┤\n",
       "│ batch_normalization_5           │ (\u001b[38;5;45mNone\u001b[0m, \u001b[38;5;34m120\u001b[0m, \u001b[38;5;34m120\u001b[0m, \u001b[38;5;34m32\u001b[0m)   │           \u001b[38;5;34m128\u001b[0m │\n",
       "│ (\u001b[38;5;33mBatchNormalization\u001b[0m)            │                        │               │\n",
       "├─────────────────────────────────┼────────────────────────┼───────────────┤\n",
       "│ conv2d_18 (\u001b[38;5;33mConv2D\u001b[0m)              │ (\u001b[38;5;45mNone\u001b[0m, \u001b[38;5;34m120\u001b[0m, \u001b[38;5;34m120\u001b[0m, \u001b[38;5;34m1\u001b[0m)    │           \u001b[38;5;34m289\u001b[0m │\n",
       "└─────────────────────────────────┴────────────────────────┴───────────────┘\n"
      ]
     },
     "metadata": {},
     "output_type": "display_data"
    },
    {
     "data": {
      "text/html": [
       "<pre style=\"white-space:pre;overflow-x:auto;line-height:normal;font-family:Menlo,'DejaVu Sans Mono',consolas,'Courier New',monospace\"><span style=\"font-weight: bold\"> Total params: </span><span style=\"color: #00af00; text-decoration-color: #00af00\">420,097</span> (1.60 MB)\n",
       "</pre>\n"
      ],
      "text/plain": [
       "\u001b[1m Total params: \u001b[0m\u001b[38;5;34m420,097\u001b[0m (1.60 MB)\n"
      ]
     },
     "metadata": {},
     "output_type": "display_data"
    },
    {
     "data": {
      "text/html": [
       "<pre style=\"white-space:pre;overflow-x:auto;line-height:normal;font-family:Menlo,'DejaVu Sans Mono',consolas,'Courier New',monospace\"><span style=\"font-weight: bold\"> Trainable params: </span><span style=\"color: #00af00; text-decoration-color: #00af00\">419,201</span> (1.60 MB)\n",
       "</pre>\n"
      ],
      "text/plain": [
       "\u001b[1m Trainable params: \u001b[0m\u001b[38;5;34m419,201\u001b[0m (1.60 MB)\n"
      ]
     },
     "metadata": {},
     "output_type": "display_data"
    },
    {
     "data": {
      "text/html": [
       "<pre style=\"white-space:pre;overflow-x:auto;line-height:normal;font-family:Menlo,'DejaVu Sans Mono',consolas,'Courier New',monospace\"><span style=\"font-weight: bold\"> Non-trainable params: </span><span style=\"color: #00af00; text-decoration-color: #00af00\">896</span> (3.50 KB)\n",
       "</pre>\n"
      ],
      "text/plain": [
       "\u001b[1m Non-trainable params: \u001b[0m\u001b[38;5;34m896\u001b[0m (3.50 KB)\n"
      ]
     },
     "metadata": {},
     "output_type": "display_data"
    }
   ],
   "source": [
    "x = tf.keras.layers.Conv2D(32, (11, 11), strides=1, activation='relu', padding='same')(input_img)\n",
    "x = tf.keras.layers.BatchNormalization()(x)\n",
    "x = tf.keras.layers.MaxPooling2D((2, 2), padding='same')(x)\n",
    "\n",
    "x = tf.keras.layers.Conv2D(64, (7, 7), strides=1, activation='relu', padding='same')(x)\n",
    "x = tf.keras.layers.BatchNormalization()(x)\n",
    "x = tf.keras.layers.MaxPooling2D((2, 2), padding='same')(x)\n",
    "\n",
    "x = tf.keras.layers.Conv2D(128, (3, 3), activation='relu', padding='same')(x)\n",
    "x = tf.keras.layers.BatchNormalization()(x)\n",
    "encoded = tf.keras.layers.MaxPooling2D((2, 2), padding='same')(x)\n",
    "\n",
    "encoder = tf.keras.Model(input_img, encoded, name='encoder')\n",
    "\n",
    "# ---------------- Decoder ----------------\n",
    "x = tf.keras.layers.Conv2DTranspose(128, (3, 3), strides=2, activation='relu', padding='same')(encoded)\n",
    "x = tf.keras.layers.BatchNormalization()(x)\n",
    "\n",
    "x = tf.keras.layers.Conv2DTranspose(64, (3, 3), strides=2, activation='relu', padding='same')(x)\n",
    "x = tf.keras.layers.BatchNormalization()(x)\n",
    "\n",
    "x = tf.keras.layers.Conv2DTranspose(32, (3, 3), strides=2, activation='relu', padding='same')(x)\n",
    "x = tf.keras.layers.BatchNormalization()(x)\n",
    "\n",
    "decoded = tf.keras.layers.Conv2D(1, (3, 3), activation='sigmoid', padding='same')(x)\n",
    "\n",
    "autoencoder = tf.keras.Model(input_img, decoded, name='autoencoder')\n",
    "autoencoder.summary()"
   ]
  },
  {
   "cell_type": "markdown",
   "id": "872e28b4",
   "metadata": {},
   "source": [
    "Through trial and error, figured out that the combination of `SSIM` and `binary_crossentropy` seem to work the best as the loss function"
   ]
  },
  {
   "cell_type": "code",
   "execution_count": null,
   "id": "9d6ce184",
   "metadata": {},
   "outputs": [],
   "source": [
    "autoencoder.compile(optimizer='adam', loss=cross_similarity)\n",
    "\n",
    "autoencoder.fit(\n",
    "        trainData.repeat(),\n",
    "        epochs=20,\n",
    "        steps_per_epoch=50\n",
    "    )"
   ]
  },
  {
   "cell_type": "code",
   "execution_count": 18,
   "id": "c5475194",
   "metadata": {},
   "outputs": [
    {
     "name": "stdout",
     "output_type": "stream",
     "text": [
      "\u001b[1m1/1\u001b[0m \u001b[32m━━━━━━━━━━━━━━━━━━━━\u001b[0m\u001b[37m\u001b[0m \u001b[1m0s\u001b[0m 237ms/step\n"
     ]
    },
    {
     "data": {
      "image/png": "[encoded data removed]",
      "text/plain": [
       "<Figure size 640x480 with 1 Axes>"
      ]
     },
     "metadata": {},
     "output_type": "display_data"
    }
   ],
   "source": [
    "prediction = autoencoder.predict(testImg)\n",
    "plt.imshow(prediction[0], cmap='gray');"
   ]
  },
  {
   "cell_type": "markdown",
   "id": "ebd4ca22",
   "metadata": {},
   "source": [
    "## **2. UNet Encoders**"
   ]
  },
  {
   "cell_type": "code",
   "execution_count": null,
   "id": "053878fa",
   "metadata": {},
   "outputs": [],
   "source": [
    "# --- Encoder ---\n",
    "c1 = tf.keras.layers.Conv2D(32, (3, 3), activation='relu', padding='same')(input_img)\n",
    "c1 = tf.keras.layers.Conv2D(32, (3, 3), activation='relu', padding='same')(c1)\n",
    "p1 = tf.keras.layers.MaxPooling2D((2, 2))(c1)\n",
    "\n",
    "c2 = tf.keras.layers.Conv2D(64, (3, 3), activation='relu', padding='same')(p1)\n",
    "c2 = tf.keras.layers.Conv2D(64, (3, 3), activation='relu', padding='same')(c2)\n",
    "p2 = tf.keras.layers.MaxPooling2D((2, 2))(c2)\n",
    "\n",
    "c3 = tf.keras.layers.Conv2D(128, (3, 3), activation='relu', padding='same')(p2)\n",
    "c3 = tf.keras.layers.Conv2D(128, (3, 3), activation='relu', padding='same')(c3)\n",
    "p3 = tf.keras.layers.MaxPooling2D((2, 2))(c3)\n",
    "\n",
    "# --- Bottleneck ---\n",
    "bn = tf.keras.layers.Conv2D(256, (3, 3), activation='relu', padding='same')(p3)\n",
    "bn = tf.keras.layers.Conv2D(256, (3, 3), activation='relu', padding='same')(bn)\n",
    "\n",
    "# --- Decoder ---\n",
    "u3 = tf.keras.layers.Conv2DTranspose(128, (3, 3), strides=(2, 2), padding='same')(bn)\n",
    "u3 = tf.keras.layers.Concatenate()([u3, c3])\n",
    "c4 = tf.keras.layers.Conv2D(128, (3, 3), activation='relu', padding='same')(u3)\n",
    "c4 = tf.keras.layers.Conv2D(128, (3, 3), activation='relu', padding='same')(c4)\n",
    "\n",
    "u2 = tf.keras.layers.Conv2DTranspose(64, (3, 3), strides=(2, 2), padding='same')(c4)\n",
    "u2 = tf.keras.layers.Concatenate()([u2, c2])\n",
    "c5 = tf.keras.layers.Conv2D(64, (3, 3), activation='relu', padding='same')(u2)\n",
    "c5 = tf.keras.layers.Conv2D(64, (3, 3), activation='relu', padding='same')(c5)\n",
    "\n",
    "u1 = tf.keras.layers.Conv2DTranspose(32, (3, 3), strides=(2, 2), padding='same')(c5)\n",
    "u1 = tf.keras.layers.Concatenate()([u1, c1])\n",
    "c6 = tf.keras.layers.Conv2D(32, (3, 3), activation='relu', padding='same')(u1)\n",
    "c6 = tf.keras.layers.Conv2D(32, (3, 3), activation='relu', padding='same')(c6)\n",
    "\n",
    "outputs = tf.keras.layers.Conv2D(1, (1, 1), activation='sigmoid', padding='same')(c6)\n",
    "\n",
    "\n",
    "autoencoder2 = tf.keras.Model(input_img, outputs, name=\"autoencoder2\")\n",
    "autoencoder2.summary()\n",
    "\n",
    "#"
   ]
  },
  {
   "cell_type": "code",
   "execution_count": 16,
   "id": "504f4901",
   "metadata": {},
   "outputs": [],
   "source": [
    "log_dir = \"logs/profile/\" + datetime.datetime.now().strftime(\"%Y%m%d-%H%M%S\")\n",
    "tensorboard = tf.keras.callbacks.TensorBoard(\n",
    "    log_dir=log_dir,\n",
    "    profile_batch=(5, 15),\n",
    "    histogram_freq=1  \n",
    ")"
   ]
  },
  {
   "cell_type": "code",
   "execution_count": 17,
   "id": "7df52045",
   "metadata": {},
   "outputs": [
    {
     "name": "stdout",
     "output_type": "stream",
     "text": [
      "Epoch 1/20\n",
      "\u001b[1m50/50\u001b[0m \u001b[32m━━━━━━━━━━━━━━━━━━━━\u001b[0m\u001b[37m\u001b[0m \u001b[1m175s\u001b[0m 3s/step - loss: 0.1222\n",
      "Epoch 2/20\n",
      "\u001b[1m50/50\u001b[0m \u001b[32m━━━━━━━━━━━━━━━━━━━━\u001b[0m\u001b[37m\u001b[0m \u001b[1m151s\u001b[0m 3s/step - loss: 0.0225\n",
      "Epoch 3/20\n",
      "\u001b[1m50/50\u001b[0m \u001b[32m━━━━━━━━━━━━━━━━━━━━\u001b[0m\u001b[37m\u001b[0m \u001b[1m164s\u001b[0m 3s/step - loss: 0.0093\n",
      "Epoch 4/20\n",
      "\u001b[1m50/50\u001b[0m \u001b[32m━━━━━━━━━━━━━━━━━━━━\u001b[0m\u001b[37m\u001b[0m \u001b[1m152s\u001b[0m 3s/step - loss: 0.0061\n",
      "Epoch 5/20\n",
      "\u001b[1m50/50\u001b[0m \u001b[32m━━━━━━━━━━━━━━━━━━━━\u001b[0m\u001b[37m\u001b[0m \u001b[1m162s\u001b[0m 3s/step - loss: 0.0038\n",
      "Epoch 6/20\n",
      "\u001b[1m50/50\u001b[0m \u001b[32m━━━━━━━━━━━━━━━━━━━━\u001b[0m\u001b[37m\u001b[0m \u001b[1m156s\u001b[0m 3s/step - loss: 0.0028\n",
      "Epoch 7/20\n",
      "\u001b[1m50/50\u001b[0m \u001b[32m━━━━━━━━━━━━━━━━━━━━\u001b[0m\u001b[37m\u001b[0m \u001b[1m164s\u001b[0m 3s/step - loss: 0.0022\n",
      "Epoch 8/20\n",
      "\u001b[1m50/50\u001b[0m \u001b[32m━━━━━━━━━━━━━━━━━━━━\u001b[0m\u001b[37m\u001b[0m \u001b[1m159s\u001b[0m 3s/step - loss: 0.0018\n",
      "Epoch 9/20\n",
      "\u001b[1m50/50\u001b[0m \u001b[32m━━━━━━━━━━━━━━━━━━━━\u001b[0m\u001b[37m\u001b[0m \u001b[1m162s\u001b[0m 3s/step - loss: 0.0020\n",
      "Epoch 10/20\n",
      "\u001b[1m50/50\u001b[0m \u001b[32m━━━━━━━━━━━━━━━━━━━━\u001b[0m\u001b[37m\u001b[0m \u001b[1m159s\u001b[0m 3s/step - loss: 0.0016\n",
      "Epoch 11/20\n",
      "\u001b[1m50/50\u001b[0m \u001b[32m━━━━━━━━━━━━━━━━━━━━\u001b[0m\u001b[37m\u001b[0m \u001b[1m162s\u001b[0m 3s/step - loss: 0.0016\n",
      "Epoch 12/20\n",
      "\u001b[1m50/50\u001b[0m \u001b[32m━━━━━━━━━━━━━━━━━━━━\u001b[0m\u001b[37m\u001b[0m \u001b[1m160s\u001b[0m 3s/step - loss: 0.0012\n",
      "Epoch 13/20\n",
      "\u001b[1m50/50\u001b[0m \u001b[32m━━━━━━━━━━━━━━━━━━━━\u001b[0m\u001b[37m\u001b[0m \u001b[1m160s\u001b[0m 3s/step - loss: 0.0012\n",
      "Epoch 14/20\n",
      "\u001b[1m50/50\u001b[0m \u001b[32m━━━━━━━━━━━━━━━━━━━━\u001b[0m\u001b[37m\u001b[0m \u001b[1m183s\u001b[0m 4s/step - loss: 9.8118e-04\n",
      "Epoch 15/20\n",
      "\u001b[1m50/50\u001b[0m \u001b[32m━━━━━━━━━━━━━━━━━━━━\u001b[0m\u001b[37m\u001b[0m \u001b[1m185s\u001b[0m 4s/step - loss: 0.0011\n",
      "Epoch 16/20\n",
      "\u001b[1m50/50\u001b[0m \u001b[32m━━━━━━━━━━━━━━━━━━━━\u001b[0m\u001b[37m\u001b[0m \u001b[1m191s\u001b[0m 4s/step - loss: 8.2595e-04\n",
      "Epoch 17/20\n",
      "\u001b[1m50/50\u001b[0m \u001b[32m━━━━━━━━━━━━━━━━━━━━\u001b[0m\u001b[37m\u001b[0m \u001b[1m183s\u001b[0m 4s/step - loss: 7.4616e-04\n",
      "Epoch 18/20\n",
      "\u001b[1m50/50\u001b[0m \u001b[32m━━━━━━━━━━━━━━━━━━━━\u001b[0m\u001b[37m\u001b[0m \u001b[1m193s\u001b[0m 4s/step - loss: 8.0523e-04\n",
      "Epoch 19/20\n",
      "\u001b[1m50/50\u001b[0m \u001b[32m━━━━━━━━━━━━━━━━━━━━\u001b[0m\u001b[37m\u001b[0m \u001b[1m169s\u001b[0m 3s/step - loss: 9.4486e-04\n",
      "Epoch 20/20\n",
      "\u001b[1m50/50\u001b[0m \u001b[32m━━━━━━━━━━━━━━━━━━━━\u001b[0m\u001b[37m\u001b[0m \u001b[1m184s\u001b[0m 4s/step - loss: 7.8934e-04\n"
     ]
    },
    {
     "data": {
      "text/plain": [
       "<keras.src.callbacks.history.History at 0x1a78ebacd70>"
      ]
     },
     "execution_count": 17,
     "metadata": {},
     "output_type": "execute_result"
    }
   ],
   "source": [
    "autoencoder2.compile(optimizer='adam', loss=mean_similarity)\n",
    "\n",
    "autoencoder2.fit(\n",
    "    trainData.repeat(),\n",
    "    epochs=20,\n",
    "    steps_per_epoch=50,\n",
    "    callbacks=[tensorboard]\n",
    ")"
   ]
  },
  {
   "cell_type": "code",
   "execution_count": 19,
   "id": "d86c19e2",
   "metadata": {},
   "outputs": [
    {
     "name": "stdout",
     "output_type": "stream",
     "text": [
      "\u001b[1m1/1\u001b[0m \u001b[32m━━━━━━━━━━━━━━━━━━━━\u001b[0m\u001b[37m\u001b[0m \u001b[1m0s\u001b[0m 46ms/step\n"
     ]
    },
    {
     "data": {
      "image/png": "[encoded data removed]",
      "text/plain": [
       "<Figure size 640x480 with 1 Axes>"
      ]
     },
     "metadata": {},
     "output_type": "display_data"
    }
   ],
   "source": [
    "prediction2 = autoencoder2.predict(testImg)\n",
    "plt.imshow(prediction2[0], cmap='gray');"
   ]
  },
  {
   "cell_type": "code",
   "execution_count": 21,
   "id": "9931f661",
   "metadata": {},
   "outputs": [],
   "source": [
    "autoencoder2.save(r'models/UnetMS.keras')"
   ]
  },
  {
   "cell_type": "code",
   "execution_count": null,
   "id": "909f8b5d",
   "metadata": {},
   "outputs": [],
   "source": [
    "# --- Encoder ---\n",
    "e1 = tf.keras.layers.Conv2D(32, (3,3), activation='relu', padding='same')(input_img)\n",
    "e1 = tf.keras.layers.Conv2D(32, (3,3), activation='relu', padding='same')(e1)\n",
    "p1 = tf.keras.layers.MaxPooling2D((2,2))(e1)\n",
    "\n",
    "e2 = tf.keras.layers.Conv2D(64, (3,3), activation='relu', padding='same')(p1)\n",
    "e2 = tf.keras.layers.Conv2D(64, (3,3), activation='relu', padding='same')(e2)\n",
    "p2 = tf.keras.layers.MaxPooling2D((2,2))(e2)\n",
    "\n",
    "e3 = tf.keras.layers.Conv2D(128, (3,3), activation='relu', padding='same')(p2)\n",
    "e3 = tf.keras.layers.Conv2D(128, (3,3), activation='relu', padding='same')(e3)\n",
    "p3 = tf.keras.layers.MaxPooling2D((2,2))(e3)\n",
    "\n",
    "e4 = tf.keras.layers.Conv2D(256, (3,3), activation='relu', padding='same')(p3)\n",
    "e4 = tf.keras.layers.Conv2D(256, (3,3), activation='relu', padding='same')(e4)\n",
    "p4 = tf.keras.layers.MaxPooling2D((2,2))(e4)\n",
    "\n",
    "# --- Latent Space ---\n",
    "l1 = tf.keras.layers.Conv2D(512, (3,3), activation='relu', padding='same')(p4)\n",
    "l2 = tf.keras.layers.Conv2D(512, (3,3), activation='relu', padding='same')(l1)\n",
    "l3 = tf.keras.layers.Conv2D(512, (3,3), activation='relu', padding='same')(l2)\n",
    "l4 = tf.keras.layers.Conv2D(512, (3,3), activation='relu', padding='same')(l3)\n",
    "\n",
    "# --- Decoder ---\n",
    "u4 = tf.keras.layers.Conv2DTranspose(256, (3, 3), strides=(2, 2))(l4)\n",
    "u4 = tf.keras.layers.Concatenate()([u4, e4])\n",
    "c3 = tf.keras.layers.Conv2D(256, (3, 3), activation='relu', padding='same')(u4)\n",
    "c3 = tf.keras.layers.Conv2D(256, (3, 3), activation='relu', padding='same')(c3)\n",
    "\n",
    "u3 = tf.keras.layers.Conv2DTranspose(128, (3, 3), strides=(2, 2), padding='same')(c3)\n",
    "u3 = tf.keras.layers.Concatenate()([u3, e3])\n",
    "c4 = tf.keras.layers.Conv2D(128, (3, 3), activation='relu', padding='same')(u3)\n",
    "c4 = tf.keras.layers.Conv2D(128, (3, 3), activation='relu', padding='same')(c4)\n",
    "\n",
    "u2 = tf.keras.layers.Conv2DTranspose(64, (3, 3), strides=(2, 2), padding='same')(c4)\n",
    "u2 = tf.keras.layers.Concatenate()([u2, e2])\n",
    "c5 = tf.keras.layers.Conv2D(64, (3, 3), activation='relu', padding='same')(u2)\n",
    "c5 = tf.keras.layers.Conv2D(64, (3, 3), activation='relu', padding='same')(c5)\n",
    "\n",
    "u1 = tf.keras.layers.Conv2DTranspose(32, (3, 3), strides=(2, 2), padding='same')(c5)\n",
    "u1 = tf.keras.layers.Concatenate()([u1, e1])\n",
    "c6 = tf.keras.layers.Conv2D(32, (3, 3), activation='relu', padding='same')(u1)\n",
    "c6 = tf.keras.layers.Conv2D(32, (3, 3), activation='relu', padding='same')(c6)\n",
    "\n",
    "outputs = tf.keras.layers.Conv2D(1, (1, 1), activation='sigmoid', padding='same')(c6)\n",
    "# --- Model ---\n",
    "unet2 = tf.keras.Model(input_img, outputs)\n",
    "unet2.summary()\n"
   ]
  },
  {
   "cell_type": "code",
   "execution_count": 47,
   "id": "171f959d",
   "metadata": {},
   "outputs": [
    {
     "name": "stdout",
     "output_type": "stream",
     "text": [
      "Epoch 1/20\n",
      "\u001b[1m50/50\u001b[0m \u001b[32m━━━━━━━━━━━━━━━━━━━━\u001b[0m\u001b[37m\u001b[0m \u001b[1m144s\u001b[0m 3s/step - loss: 0.4702\n",
      "Epoch 2/20\n",
      "\u001b[1m50/50\u001b[0m \u001b[32m━━━━━━━━━━━━━━━━━━━━\u001b[0m\u001b[37m\u001b[0m \u001b[1m116s\u001b[0m 2s/step - loss: 0.3429\n",
      "Epoch 3/20\n",
      "\u001b[1m50/50\u001b[0m \u001b[32m━━━━━━━━━━━━━━━━━━━━\u001b[0m\u001b[37m\u001b[0m \u001b[1m118s\u001b[0m 2s/step - loss: 0.2893\n",
      "Epoch 4/20\n",
      "\u001b[1m50/50\u001b[0m \u001b[32m━━━━━━━━━━━━━━━━━━━━\u001b[0m\u001b[37m\u001b[0m \u001b[1m124s\u001b[0m 3s/step - loss: 0.2194\n",
      "Epoch 5/20\n",
      "\u001b[1m50/50\u001b[0m \u001b[32m━━━━━━━━━━━━━━━━━━━━\u001b[0m\u001b[37m\u001b[0m \u001b[1m114s\u001b[0m 2s/step - loss: 0.2133\n",
      "Epoch 6/20\n",
      "\u001b[1m50/50\u001b[0m \u001b[32m━━━━━━━━━━━━━━━━━━━━\u001b[0m\u001b[37m\u001b[0m \u001b[1m140s\u001b[0m 3s/step - loss: 0.2072\n",
      "Epoch 7/20\n",
      "\u001b[1m50/50\u001b[0m \u001b[32m━━━━━━━━━━━━━━━━━━━━\u001b[0m\u001b[37m\u001b[0m \u001b[1m117s\u001b[0m 2s/step - loss: 0.1969\n",
      "Epoch 8/20\n",
      "\u001b[1m50/50\u001b[0m \u001b[32m━━━━━━━━━━━━━━━━━━━━\u001b[0m\u001b[37m\u001b[0m \u001b[1m124s\u001b[0m 2s/step - loss: 0.2014\n",
      "Epoch 9/20\n",
      "\u001b[1m50/50\u001b[0m \u001b[32m━━━━━━━━━━━━━━━━━━━━\u001b[0m\u001b[37m\u001b[0m \u001b[1m125s\u001b[0m 3s/step - loss: 0.1904\n",
      "Epoch 10/20\n",
      "\u001b[1m50/50\u001b[0m \u001b[32m━━━━━━━━━━━━━━━━━━━━\u001b[0m\u001b[37m\u001b[0m \u001b[1m127s\u001b[0m 3s/step - loss: 0.1947\n",
      "Epoch 11/20\n",
      "\u001b[1m50/50\u001b[0m \u001b[32m━━━━━━━━━━━━━━━━━━━━\u001b[0m\u001b[37m\u001b[0m \u001b[1m156s\u001b[0m 3s/step - loss: 0.1924\n",
      "Epoch 12/20\n",
      "\u001b[1m50/50\u001b[0m \u001b[32m━━━━━━━━━━━━━━━━━━━━\u001b[0m\u001b[37m\u001b[0m \u001b[1m119s\u001b[0m 2s/step - loss: 0.1845\n",
      "Epoch 13/20\n",
      "\u001b[1m50/50\u001b[0m \u001b[32m━━━━━━━━━━━━━━━━━━━━\u001b[0m\u001b[37m\u001b[0m \u001b[1m133s\u001b[0m 3s/step - loss: 0.1892\n",
      "Epoch 14/20\n",
      "\u001b[1m50/50\u001b[0m \u001b[32m━━━━━━━━━━━━━━━━━━━━\u001b[0m\u001b[37m\u001b[0m \u001b[1m144s\u001b[0m 3s/step - loss: 0.1811\n",
      "Epoch 15/20\n",
      "\u001b[1m50/50\u001b[0m \u001b[32m━━━━━━━━━━━━━━━━━━━━\u001b[0m\u001b[37m\u001b[0m \u001b[1m119s\u001b[0m 2s/step - loss: 0.1872\n",
      "Epoch 16/20\n",
      "\u001b[1m50/50\u001b[0m \u001b[32m━━━━━━━━━━━━━━━━━━━━\u001b[0m\u001b[37m\u001b[0m \u001b[1m130s\u001b[0m 3s/step - loss: 0.1881\n",
      "Epoch 17/20\n",
      "\u001b[1m50/50\u001b[0m \u001b[32m━━━━━━━━━━━━━━━━━━━━\u001b[0m\u001b[37m\u001b[0m \u001b[1m119s\u001b[0m 2s/step - loss: 0.1865\n",
      "Epoch 18/20\n",
      "\u001b[1m50/50\u001b[0m \u001b[32m━━━━━━━━━━━━━━━━━━━━\u001b[0m\u001b[37m\u001b[0m \u001b[1m123s\u001b[0m 2s/step - loss: 0.1811\n",
      "Epoch 19/20\n",
      "\u001b[1m50/50\u001b[0m \u001b[32m━━━━━━━━━━━━━━━━━━━━\u001b[0m\u001b[37m\u001b[0m \u001b[1m126s\u001b[0m 3s/step - loss: 0.1767\n",
      "Epoch 20/20\n",
      "\u001b[1m50/50\u001b[0m \u001b[32m━━━━━━━━━━━━━━━━━━━━\u001b[0m\u001b[37m\u001b[0m \u001b[1m114s\u001b[0m 2s/step - loss: 0.1847\n"
     ]
    },
    {
     "data": {
      "text/plain": [
       "<keras.src.callbacks.history.History at 0x212807ae3f0>"
      ]
     },
     "execution_count": 47,
     "metadata": {},
     "output_type": "execute_result"
    }
   ],
   "source": [
    "unet2.compile(optimizer=tf.keras.optimizers.Adam(learning_rate=1e-4), loss=cross_similarity)\n",
    "\n",
    "unet2.fit(\n",
    "    trainData.repeat(),\n",
    "    epochs=20,\n",
    "    steps_per_epoch=50\n",
    ")"
   ]
  },
  {
   "cell_type": "code",
   "execution_count": 48,
   "id": "f51e6c98",
   "metadata": {},
   "outputs": [
    {
     "name": "stdout",
     "output_type": "stream",
     "text": [
      "\u001b[1m1/1\u001b[0m \u001b[32m━━━━━━━━━━━━━━━━━━━━\u001b[0m\u001b[37m\u001b[0m \u001b[1m0s\u001b[0m 291ms/step\n"
     ]
    },
    {
     "data": {
      "image/png": "[encoded data removed]",
      "text/plain": [
       "<Figure size 640x480 with 1 Axes>"
      ]
     },
     "metadata": {},
     "output_type": "display_data"
    }
   ],
   "source": [
    "prediction3 = unet2.predict(testImg)\n",
    "plt.imshow(prediction3[0], cmap='gray');"
   ]
  },
  {
   "cell_type": "code",
   "execution_count": 55,
   "id": "6b03c8e4",
   "metadata": {},
   "outputs": [
    {
     "data": {
      "text/plain": [
       "<tf.Tensor: shape=(1,), dtype=float32, numpy=array([0.9817731], dtype=float32)>"
      ]
     },
     "execution_count": 55,
     "metadata": {},
     "output_type": "execute_result"
    }
   ],
   "source": [
    "tf.image.ssim(prediction2, prediction3, max_val=1.0)"
   ]
  },
  {
   "cell_type": "code",
   "execution_count": 57,
   "id": "a8262b65",
   "metadata": {},
   "outputs": [],
   "source": [
    "unet2.save(r\"models\\Unet2.keras\")"
   ]
  },
  {
   "cell_type": "markdown",
   "id": "5f2f1dd3",
   "metadata": {},
   "source": [
    "## **3. ResNet Encoders**"
   ]
  },
  {
   "cell_type": "code",
   "execution_count": 35,
   "id": "e5978dbf",
   "metadata": {},
   "outputs": [],
   "source": [
    "def residual_block(x, filters):\n",
    "    skip = x\n",
    "    \n",
    "    if skip.shape[-1] != filters:\n",
    "        skip = tf.keras.layers.Conv2D(filters, 1, padding='same')(skip)\n",
    "    \n",
    "    x = tf.keras.layers.Conv2D(filters, 3, padding='same', activation='relu')(x)\n",
    "    x = tf.keras.layers.BatchNormalization()(x)\n",
    "    x = tf.keras.layers.Conv2D(filters, 3, padding='same')(x)\n",
    "    x = tf.keras.layers.BatchNormalization()(x)\n",
    "    x = tf.keras.layers.add([x, skip])\n",
    "    x = tf.keras.layers.Activation('relu')(x)\n",
    "    return x"
   ]
  },
  {
   "cell_type": "code",
   "execution_count": null,
   "id": "d7ee40e7",
   "metadata": {},
   "outputs": [],
   "source": [
    "# --- Encoder ---\n",
    "x = tf.keras.layers.Conv2D(32, (3, 3), padding='same', activation='relu')(input_img)         \n",
    "x = tf.keras.layers.BatchNormalization()(x)                                             \n",
    "x = tf.keras.layers.MaxPooling2D(2)(x)                                                  \n",
    "x = residual_block(x, 64)                                                      \n",
    "x = tf.keras.layers.MaxPooling2D(2)(x)                                                  \n",
    "\n",
    "x = residual_block(x, 128)                                                     \n",
    "x = tf.keras.layers.MaxPooling2D(2)(x)                                                  \n",
    "\n",
    "x = residual_block(x, 256)                                                     \n",
    "x = tf.keras.layers.Dropout(0.3)(x)                                                     \n",
    "\n",
    "# --- Latent space ---\n",
    "x = tf.keras.layers.Conv2D(512, (3, 3), padding='same', activation='relu')(x)                \n",
    "x = tf.keras.layers.BatchNormalization()(x)                                             \n",
    "\n",
    "# --- Decoder ---\n",
    "x = tf.keras.layers.Conv2DTranspose(256, (3, 3), strides=2, padding='same', activation='relu')(x) \n",
    "x = residual_block(x, 256)                                                     \n",
    "\n",
    "x = tf.keras.layers.Conv2DTranspose(128, (3, 3), strides=2, padding='same', activation='relu')(x) \n",
    "x = tf.keras.layers.Conv2DTranspose(1, (3, 3), strides=2, padding='same', activation='sigmoid')(x) \n",
    "\n",
    "# --- Model ---\n",
    "residualEncoder = tf.keras.Model(input_img, x)\n",
    "residualEncoder.summary()\n"
   ]
  },
  {
   "cell_type": "code",
   "execution_count": 37,
   "id": "1c32a24b",
   "metadata": {},
   "outputs": [
    {
     "name": "stdout",
     "output_type": "stream",
     "text": [
      "Epoch 1/20\n",
      "\u001b[1m50/50\u001b[0m \u001b[32m━━━━━━━━━━━━━━━━━━━━\u001b[0m\u001b[37m\u001b[0m \u001b[1m225s\u001b[0m 4s/step - loss: 0.2872\n",
      "Epoch 2/20\n",
      "\u001b[1m50/50\u001b[0m \u001b[32m━━━━━━━━━━━━━━━━━━━━\u001b[0m\u001b[37m\u001b[0m \u001b[1m176s\u001b[0m 4s/step - loss: 0.1200\n",
      "Epoch 3/20\n",
      "\u001b[1m50/50\u001b[0m \u001b[32m━━━━━━━━━━━━━━━━━━━━\u001b[0m\u001b[37m\u001b[0m \u001b[1m179s\u001b[0m 4s/step - loss: 0.0925\n",
      "Epoch 4/20\n",
      "\u001b[1m50/50\u001b[0m \u001b[32m━━━━━━━━━━━━━━━━━━━━\u001b[0m\u001b[37m\u001b[0m \u001b[1m190s\u001b[0m 4s/step - loss: 0.0800\n",
      "Epoch 5/20\n",
      "\u001b[1m50/50\u001b[0m \u001b[32m━━━━━━━━━━━━━━━━━━━━\u001b[0m\u001b[37m\u001b[0m \u001b[1m173s\u001b[0m 3s/step - loss: 0.0688\n",
      "Epoch 6/20\n",
      "\u001b[1m50/50\u001b[0m \u001b[32m━━━━━━━━━━━━━━━━━━━━\u001b[0m\u001b[37m\u001b[0m \u001b[1m199s\u001b[0m 4s/step - loss: 0.0703\n",
      "Epoch 7/20\n",
      "\u001b[1m50/50\u001b[0m \u001b[32m━━━━━━━━━━━━━━━━━━━━\u001b[0m\u001b[37m\u001b[0m \u001b[1m193s\u001b[0m 4s/step - loss: 0.0673\n",
      "Epoch 8/20\n",
      "\u001b[1m50/50\u001b[0m \u001b[32m━━━━━━━━━━━━━━━━━━━━\u001b[0m\u001b[37m\u001b[0m \u001b[1m183s\u001b[0m 4s/step - loss: 0.0625\n",
      "Epoch 9/20\n",
      "\u001b[1m50/50\u001b[0m \u001b[32m━━━━━━━━━━━━━━━━━━━━\u001b[0m\u001b[37m\u001b[0m \u001b[1m198s\u001b[0m 4s/step - loss: 0.0619\n",
      "Epoch 10/20\n",
      "\u001b[1m50/50\u001b[0m \u001b[32m━━━━━━━━━━━━━━━━━━━━\u001b[0m\u001b[37m\u001b[0m \u001b[1m185s\u001b[0m 4s/step - loss: 0.0575\n",
      "Epoch 11/20\n",
      "\u001b[1m50/50\u001b[0m \u001b[32m━━━━━━━━━━━━━━━━━━━━\u001b[0m\u001b[37m\u001b[0m \u001b[1m189s\u001b[0m 4s/step - loss: 0.0636\n",
      "Epoch 12/20\n",
      "\u001b[1m50/50\u001b[0m \u001b[32m━━━━━━━━━━━━━━━━━━━━\u001b[0m\u001b[37m\u001b[0m \u001b[1m197s\u001b[0m 4s/step - loss: 0.0506\n",
      "Epoch 13/20\n",
      "\u001b[1m50/50\u001b[0m \u001b[32m━━━━━━━━━━━━━━━━━━━━\u001b[0m\u001b[37m\u001b[0m \u001b[1m174s\u001b[0m 3s/step - loss: 0.0490\n",
      "Epoch 14/20\n",
      "\u001b[1m50/50\u001b[0m \u001b[32m━━━━━━━━━━━━━━━━━━━━\u001b[0m\u001b[37m\u001b[0m \u001b[1m201s\u001b[0m 4s/step - loss: 0.0622\n",
      "Epoch 15/20\n",
      "\u001b[1m50/50\u001b[0m \u001b[32m━━━━━━━━━━━━━━━━━━━━\u001b[0m\u001b[37m\u001b[0m \u001b[1m192s\u001b[0m 4s/step - loss: 0.0482\n",
      "Epoch 16/20\n",
      "\u001b[1m50/50\u001b[0m \u001b[32m━━━━━━━━━━━━━━━━━━━━\u001b[0m\u001b[37m\u001b[0m \u001b[1m182s\u001b[0m 4s/step - loss: 0.0595\n",
      "Epoch 17/20\n",
      "\u001b[1m50/50\u001b[0m \u001b[32m━━━━━━━━━━━━━━━━━━━━\u001b[0m\u001b[37m\u001b[0m \u001b[1m197s\u001b[0m 4s/step - loss: 0.0457\n",
      "Epoch 18/20\n",
      "\u001b[1m50/50\u001b[0m \u001b[32m━━━━━━━━━━━━━━━━━━━━\u001b[0m\u001b[37m\u001b[0m \u001b[1m186s\u001b[0m 4s/step - loss: 0.0438\n",
      "Epoch 19/20\n",
      "\u001b[1m50/50\u001b[0m \u001b[32m━━━━━━━━━━━━━━━━━━━━\u001b[0m\u001b[37m\u001b[0m \u001b[1m189s\u001b[0m 4s/step - loss: 0.0492\n",
      "Epoch 20/20\n",
      "\u001b[1m50/50\u001b[0m \u001b[32m━━━━━━━━━━━━━━━━━━━━\u001b[0m\u001b[37m\u001b[0m \u001b[1m197s\u001b[0m 4s/step - loss: 0.0422\n"
     ]
    },
    {
     "data": {
      "text/plain": [
       "<keras.src.callbacks.history.History at 0x1a7a6593bc0>"
      ]
     },
     "execution_count": 37,
     "metadata": {},
     "output_type": "execute_result"
    }
   ],
   "source": [
    "residualEncoder.compile(optimizer=tf.keras.optimizers.Adam(learning_rate=1e-4), loss=mean_similarity)\n",
    "\n",
    "residualEncoder.fit(\n",
    "    trainData.repeat(),\n",
    "    epochs=20,\n",
    "    steps_per_epoch=50\n",
    ")"
   ]
  },
  {
   "cell_type": "code",
   "execution_count": 38,
   "id": "6edaa5b0",
   "metadata": {},
   "outputs": [
    {
     "name": "stdout",
     "output_type": "stream",
     "text": [
      "\u001b[1m1/1\u001b[0m \u001b[32m━━━━━━━━━━━━━━━━━━━━\u001b[0m\u001b[37m\u001b[0m \u001b[1m0s\u001b[0m 321ms/step\n"
     ]
    },
    {
     "data": {
      "image/png": "[encoded data removed]",
      "text/plain": [
       "<Figure size 640x480 with 1 Axes>"
      ]
     },
     "metadata": {},
     "output_type": "display_data"
    }
   ],
   "source": [
    "predictionN = residualEncoder.predict(testImg)\n",
    "plt.imshow(predictionN[0], cmap='gray');"
   ]
  },
  {
   "cell_type": "code",
   "execution_count": 40,
   "id": "2d5e8d36",
   "metadata": {},
   "outputs": [],
   "source": [
    "residualEncoder.save(r'models\\ResidualEncoder.keras')"
   ]
  },
  {
   "cell_type": "code",
   "execution_count": null,
   "id": "5a416e68",
   "metadata": {},
   "outputs": [],
   "source": [
    "# Encoder\n",
    "e1 = tf.keras.layers.Conv2D(32, (3,3), activation='relu', padding='same')(input_img)\n",
    "e1 = tf.keras.layers.Conv2D(32, (3,3), activation='relu', padding='same')(e1)\n",
    "p1 = tf.keras.layers.MaxPooling2D((2,2))(e1)\n",
    "\n",
    "e2 = tf.keras.layers.Conv2D(64, (3,3), activation='relu', padding='same')(p1)\n",
    "e2 = tf.keras.layers.Conv2D(64, (3,3), activation='relu', padding='same')(e2)\n",
    "p2 = tf.keras.layers.MaxPooling2D((2,2))(e2)\n",
    "\n",
    "e3 = tf.keras.layers.Conv2D(128, (3,3), activation='relu', padding='same')(p2)\n",
    "e3 = tf.keras.layers.Conv2D(128, (3,3), activation='relu', padding='same')(e3)\n",
    "p3 = tf.keras.layers.MaxPooling2D((2,2))(e3)\n",
    "\n",
    "e4 = tf.keras.layers.Conv2D(256, (3,3), activation='relu', padding='same')(p3)\n",
    "e4 = tf.keras.layers.Conv2D(256, (3,3), activation='relu', padding='same')(e4)\n",
    "p4 = tf.keras.layers.MaxPooling2D((2,2))(e4)\n",
    "\n",
    "# Latent Space\n",
    "l = tf.keras.layers.Conv2D(512, (3,3), activation='relu', padding='same')(p4)\n",
    "l = tf.keras.layers.Conv2D(512, (3,3), activation='relu', padding='same')(l)\n",
    "l = tf.keras.layers.Conv2D(512, (3,3), activation='relu', padding='same')(l)\n",
    "l = tf.keras.layers.Conv2D(512, (3,3), activation='relu', padding='same')(l)\n",
    "\n",
    "# Decoder with Residual Blocks\n",
    "u4 = tf.keras.layers.Conv2DTranspose(256, (3, 3), strides=(2, 2))(l)\n",
    "u4 = tf.keras.layers.Concatenate()([u4, e4])\n",
    "u4 = residual_block(u4, 256)\n",
    "\n",
    "u3 = tf.keras.layers.Conv2DTranspose(128, (3, 3), strides=(2, 2), padding='same')(u4)\n",
    "u3 = tf.keras.layers.Concatenate()([u3, e3])\n",
    "u3 = residual_block(u3, 128)\n",
    "\n",
    "u2 = tf.keras.layers.Conv2DTranspose(64, (3, 3), strides=(2, 2), padding='same')(u3)\n",
    "u2 = tf.keras.layers.Concatenate()([u2, e2])\n",
    "u2 = residual_block(u2, 64)\n",
    "\n",
    "u1 = tf.keras.layers.Conv2DTranspose(32, (3, 3), strides=(2, 2), padding='same')(u2)\n",
    "u1 = tf.keras.layers.Concatenate()([u1, e1])\n",
    "u1 = residual_block(u1, 32)\n",
    "\n",
    "# Output\n",
    "output_img = tf.keras.layers.Conv2D(1, (1, 1), activation='sigmoid')(u1)\n",
    "\n",
    "# Autoencoder Model\n",
    "perceptualEncoder = tf.keras.Model(inputs=input_img, outputs=output_img, name='Perceptualencoder')\n",
    "perceptualEncoder.summary()"
   ]
  },
  {
   "cell_type": "code",
   "execution_count": 23,
   "id": "fe9414d1",
   "metadata": {},
   "outputs": [
    {
     "name": "stdout",
     "output_type": "stream",
     "text": [
      "Epoch 1/20\n",
      "\u001b[1m50/50\u001b[0m \u001b[32m━━━━━━━━━━━━━━━━━━━━\u001b[0m\u001b[37m\u001b[0m \u001b[1m330s\u001b[0m 6s/step - loss: 0.5709\n",
      "Epoch 2/20\n",
      "\u001b[1m50/50\u001b[0m \u001b[32m━━━━━━━━━━━━━━━━━━━━\u001b[0m\u001b[37m\u001b[0m \u001b[1m309s\u001b[0m 6s/step - loss: 0.2905\n",
      "Epoch 3/20\n",
      "\u001b[1m50/50\u001b[0m \u001b[32m━━━━━━━━━━━━━━━━━━━━\u001b[0m\u001b[37m\u001b[0m \u001b[1m275s\u001b[0m 5s/step - loss: 0.2461\n",
      "Epoch 4/20\n",
      "\u001b[1m50/50\u001b[0m \u001b[32m━━━━━━━━━━━━━━━━━━━━\u001b[0m\u001b[37m\u001b[0m \u001b[1m251s\u001b[0m 5s/step - loss: 0.2391\n",
      "Epoch 5/20\n",
      "\u001b[1m50/50\u001b[0m \u001b[32m━━━━━━━━━━━━━━━━━━━━\u001b[0m\u001b[37m\u001b[0m \u001b[1m252s\u001b[0m 5s/step - loss: 0.2276\n",
      "Epoch 6/20\n",
      "\u001b[1m50/50\u001b[0m \u001b[32m━━━━━━━━━━━━━━━━━━━━\u001b[0m\u001b[37m\u001b[0m \u001b[1m251s\u001b[0m 5s/step - loss: 0.2150\n",
      "Epoch 7/20\n",
      "\u001b[1m50/50\u001b[0m \u001b[32m━━━━━━━━━━━━━━━━━━━━\u001b[0m\u001b[37m\u001b[0m \u001b[1m252s\u001b[0m 5s/step - loss: 0.2023\n",
      "Epoch 8/20\n",
      "\u001b[1m50/50\u001b[0m \u001b[32m━━━━━━━━━━━━━━━━━━━━\u001b[0m\u001b[37m\u001b[0m \u001b[1m253s\u001b[0m 5s/step - loss: 0.2071\n",
      "Epoch 9/20\n",
      "\u001b[1m50/50\u001b[0m \u001b[32m━━━━━━━━━━━━━━━━━━━━\u001b[0m\u001b[37m\u001b[0m \u001b[1m252s\u001b[0m 5s/step - loss: 0.1934\n",
      "Epoch 10/20\n",
      "\u001b[1m50/50\u001b[0m \u001b[32m━━━━━━━━━━━━━━━━━━━━\u001b[0m\u001b[37m\u001b[0m \u001b[1m254s\u001b[0m 5s/step - loss: 0.1982\n",
      "Epoch 11/20\n",
      "\u001b[1m50/50\u001b[0m \u001b[32m━━━━━━━━━━━━━━━━━━━━\u001b[0m\u001b[37m\u001b[0m \u001b[1m250s\u001b[0m 5s/step - loss: 0.1952\n",
      "Epoch 12/20\n",
      "\u001b[1m50/50\u001b[0m \u001b[32m━━━━━━━━━━━━━━━━━━━━\u001b[0m\u001b[37m\u001b[0m \u001b[1m253s\u001b[0m 5s/step - loss: 0.1980\n",
      "Epoch 13/20\n",
      "\u001b[1m50/50\u001b[0m \u001b[32m━━━━━━━━━━━━━━━━━━━━\u001b[0m\u001b[37m\u001b[0m \u001b[1m263s\u001b[0m 5s/step - loss: 0.2071\n",
      "Epoch 14/20\n",
      "\u001b[1m50/50\u001b[0m \u001b[32m━━━━━━━━━━━━━━━━━━━━\u001b[0m\u001b[37m\u001b[0m \u001b[1m252s\u001b[0m 5s/step - loss: 0.1958\n",
      "Epoch 15/20\n",
      "\u001b[1m50/50\u001b[0m \u001b[32m━━━━━━━━━━━━━━━━━━━━\u001b[0m\u001b[37m\u001b[0m \u001b[1m256s\u001b[0m 5s/step - loss: 0.2017\n",
      "Epoch 16/20\n",
      "\u001b[1m50/50\u001b[0m \u001b[32m━━━━━━━━━━━━━━━━━━━━\u001b[0m\u001b[37m\u001b[0m \u001b[1m275s\u001b[0m 6s/step - loss: 0.1954\n",
      "Epoch 17/20\n",
      "\u001b[1m50/50\u001b[0m \u001b[32m━━━━━━━━━━━━━━━━━━━━\u001b[0m\u001b[37m\u001b[0m \u001b[1m253s\u001b[0m 5s/step - loss: 0.1942\n",
      "Epoch 18/20\n",
      "\u001b[1m50/50\u001b[0m \u001b[32m━━━━━━━━━━━━━━━━━━━━\u001b[0m\u001b[37m\u001b[0m \u001b[1m254s\u001b[0m 5s/step - loss: 0.1981\n",
      "Epoch 19/20\n",
      "\u001b[1m50/50\u001b[0m \u001b[32m━━━━━━━━━━━━━━━━━━━━\u001b[0m\u001b[37m\u001b[0m \u001b[1m251s\u001b[0m 5s/step - loss: 0.1874\n",
      "Epoch 20/20\n",
      "\u001b[1m50/50\u001b[0m \u001b[32m━━━━━━━━━━━━━━━━━━━━\u001b[0m\u001b[37m\u001b[0m \u001b[1m249s\u001b[0m 5s/step - loss: 0.1831\n"
     ]
    },
    {
     "data": {
      "text/plain": [
       "<keras.src.callbacks.history.History at 0x1e5615bf4a0>"
      ]
     },
     "execution_count": 23,
     "metadata": {},
     "output_type": "execute_result"
    }
   ],
   "source": [
    "perceptualEncoder.compile(optimizer=tf.keras.optimizers.Adam(learning_rate=1e-4), loss=cross_similarity)\n",
    "\n",
    "perceptualEncoder.fit(\n",
    "    trainData.repeat(),\n",
    "    epochs=20,\n",
    "    steps_per_epoch=50)"
   ]
  },
  {
   "cell_type": "code",
   "execution_count": 35,
   "id": "84371c0f",
   "metadata": {},
   "outputs": [
    {
     "name": "stdout",
     "output_type": "stream",
     "text": [
      "\u001b[1m1/1\u001b[0m \u001b[32m━━━━━━━━━━━━━━━━━━━━\u001b[0m\u001b[37m\u001b[0m \u001b[1m0s\u001b[0m 65ms/step\n"
     ]
    },
    {
     "data": {
      "image/png": "[encoded data removed]",
      "text/plain": [
       "<Figure size 640x480 with 1 Axes>"
      ]
     },
     "metadata": {},
     "output_type": "display_data"
    }
   ],
   "source": [
    "prediction4 = perceptualEncoder.predict(testImg)\n",
    "plt.imshow(prediction4[0], cmap='gray');"
   ]
  },
  {
   "cell_type": "code",
   "execution_count": 26,
   "id": "23b214f5",
   "metadata": {},
   "outputs": [],
   "source": [
    "perceptualEncoder.save(r'models/UResNetEncoder.keras')"
   ]
  },
  {
   "cell_type": "markdown",
   "id": "8fe89e15",
   "metadata": {},
   "source": [
    "## **4. MobileNet Encoder**"
   ]
  },
  {
   "cell_type": "code",
   "execution_count": null,
   "id": "86a94ec7",
   "metadata": {},
   "outputs": [],
   "source": [
    "base_model = tf.keras.applications.MobileNetV2(\n",
    "    input_shape=(120, 120, 3), \n",
    "    include_top=False,\n",
    "    weights=None \n",
    ")\n",
    "\n",
    "x = tf.keras.layers.Concatenate()([input_img, input_img, input_img])  \n",
    "\n",
    "encoded = base_model(x)\n",
    "encoded = tf.keras.layers.Conv2D(512, 1, activation='relu')(encoded)\n",
    "\n",
    "x = tf.keras.layers.Conv2DTranspose(256, 3, strides=2, padding='same', activation='relu')(encoded)\n",
    "x = tf.keras.layers.Conv2DTranspose(128, 3, strides=2, padding='same', activation='relu')(x)\n",
    "x = tf.keras.layers.Conv2DTranspose(64, 3, strides=2, padding='same', activation='relu')(x)\n",
    "x = tf.keras.layers.Conv2DTranspose(32, 3, strides=2, padding='same', activation='relu')(x)\n",
    "x = tf.keras.layers.Conv2DTranspose(16, 3, strides=2, padding='same', activation='relu')(x)\n",
    "x = tf.keras.layers.Resizing(120, 120)(x)\n",
    "decoded = tf.keras.layers.Conv2D(1, 3, activation='sigmoid', padding='same')(x)\n",
    "\n",
    "mobileEncoder = tf.keras.Model(input_img, decoded)\n",
    "mobileEncoder.summary()"
   ]
  },
  {
   "cell_type": "code",
   "execution_count": null,
   "id": "23f66fa2",
   "metadata": {},
   "outputs": [],
   "source": [
    "mobileEncoder.compile(optimizer=tf.keras.optimizers.Adam(learning_rate=1e-4), loss=cross_similarity)\n",
    "\n",
    "mobileEncoder.fit(\n",
    "    trainData.repeat(),\n",
    "    epochs=20,\n",
    "    steps_per_epoch=50)"
   ]
  },
  {
   "cell_type": "code",
   "execution_count": 65,
   "id": "c27bf2de",
   "metadata": {},
   "outputs": [
    {
     "name": "stdout",
     "output_type": "stream",
     "text": [
      "\u001b[1m1/1\u001b[0m \u001b[32m━━━━━━━━━━━━━━━━━━━━\u001b[0m\u001b[37m\u001b[0m \u001b[1m1s\u001b[0m 1s/step\n"
     ]
    },
    {
     "data": {
      "image/png": "[encoded data removed]",
      "text/plain": [
       "<Figure size 640x480 with 1 Axes>"
      ]
     },
     "metadata": {},
     "output_type": "display_data"
    }
   ],
   "source": [
    "prediction5 = mobileEncoder.predict(testImg)\n",
    "plt.imshow(prediction5[0], cmap='gray');"
   ]
  },
  {
   "cell_type": "markdown",
   "id": "d37d0a31",
   "metadata": {},
   "source": [
    "## **5. Attention Encoder**"
   ]
  },
  {
   "cell_type": "code",
   "execution_count": 32,
   "id": "c354247c",
   "metadata": {},
   "outputs": [],
   "source": [
    "# Attention Gate\n",
    "def Attention(x, g, inter_channels):\n",
    "    theta = tf.keras.layers.Conv2D(inter_channels, (1, 1), padding='same')(x)\n",
    "    phi = tf.keras.layers.Conv2D(inter_channels, (1, 1), padding='same')(g)\n",
    "    add = tf.keras.layers.Add()([theta, phi])\n",
    "    act = tf.keras.layers.Activation('relu')(add)\n",
    "    psi = tf.keras.layers.Conv2D(1, (1, 1), padding='same')(act)\n",
    "    sig = tf.keras.layers.Activation('sigmoid')(psi)\n",
    "    return tf.keras.layers.Multiply()([x, sig])"
   ]
  },
  {
   "cell_type": "code",
   "execution_count": null,
   "id": "3c809573",
   "metadata": {},
   "outputs": [],
   "source": [
    "c1 = tf.keras.layers.Conv2D(32, (3, 3), activation='relu', padding='same')(input_img)\n",
    "c1 = tf.keras.layers.BatchNormalization()(c1)\n",
    "c1 = tf.keras.layers.Conv2D(32, (3, 3), activation='relu', padding='same')(c1)\n",
    "c1 = tf.keras.layers.BatchNormalization()(c1)\n",
    "p1 = tf.keras.layers.MaxPooling2D((2, 2))(c1)  \n",
    "\n",
    "c2 = tf.keras.layers.Conv2D(64, (3, 3), activation='relu', padding='same')(p1)\n",
    "c2 = tf.keras.layers.BatchNormalization()(c2)\n",
    "c2 = tf.keras.layers.Conv2D(64, (3, 3), activation='relu', padding='same')(c2)\n",
    "c2 = tf.keras.layers.BatchNormalization()(c2)\n",
    "p2 = tf.keras.layers.MaxPooling2D((2, 2))(c2)  \n",
    "\n",
    "c3 = tf.keras.layers.Conv2D(128, (3, 3), activation='relu', padding='same')(p2)\n",
    "c3 = tf.keras.layers.BatchNormalization()(c3)\n",
    "c3 = tf.keras.layers.Conv2D(128, (3, 3), activation='relu', padding='same')(c3)\n",
    "c3 = tf.keras.layers.BatchNormalization()(c3)\n",
    "p3 = tf.keras.layers.MaxPooling2D((2, 2))(c3)  \n",
    "\n",
    "# Bottleneck\n",
    "bn = tf.keras.layers.Conv2D(256, (3, 3), activation='relu', padding='same')(p3)\n",
    "bn = tf.keras.layers.BatchNormalization()(bn)\n",
    "bn = tf.keras.layers.Conv2D(256, (3, 3), activation='relu', padding='same')(bn)\n",
    "bn = tf.keras.layers.BatchNormalization()(bn)  \n",
    "\n",
    "# Decoder\n",
    "u3 = tf.keras.layers.Conv2DTranspose(128, (2, 2), strides=(2, 2), padding='same')(bn)  \n",
    "a3 = Attention(c3, u3, 128)  \n",
    "u3 = tf.keras.layers.concatenate([u3, a3])\n",
    "c4 = tf.keras.layers.Conv2D(128, (3, 3), activation='relu', padding='same')(u3)\n",
    "c4 = tf.keras.layers.BatchNormalization()(c4)\n",
    "c4 = tf.keras.layers.Conv2D(128, (3, 3), activation='relu', padding='same')(c4)\n",
    "c4 = tf.keras.layers.BatchNormalization()(c4)  \n",
    "\n",
    "u2 = tf.keras.layers.Conv2DTranspose(64, (2, 2), strides=(2, 2), padding='same')(c4)  \n",
    "a2 = Attention(c2, u2, 64)  \n",
    "u2 = tf.keras.layers.concatenate([u2, a2])\n",
    "c5 = tf.keras.layers.Conv2D(64, (3, 3), activation='relu', padding='same')(u2)\n",
    "c5 = tf.keras.layers.BatchNormalization()(c5)\n",
    "c5 = tf.keras.layers.Conv2D(64, (3, 3), activation='relu', padding='same')(c5)\n",
    "c5 = tf.keras.layers.BatchNormalization()(c5)  \n",
    "\n",
    "u1 = tf.keras.layers.Conv2DTranspose(32, (2, 2), strides=(2, 2), padding='same')(c5)  \n",
    "a1 = Attention(c1, u1, 32)  \n",
    "u1 = tf.keras.layers.concatenate([u1, a1])\n",
    "c6 = tf.keras.layers.Conv2D(32, (3, 3), activation='relu', padding='same')(u1)\n",
    "c6 = tf.keras.layers.BatchNormalization()(c6)\n",
    "c6 = tf.keras.layers.Conv2D(32, (3, 3), activation='relu', padding='same')(c6)\n",
    "c6 = tf.keras.layers.BatchNormalization()(c6) \n",
    "\n",
    "# Output\n",
    "output_layer = tf.keras.layers.Conv2D(1, (1, 1), activation='sigmoid')(c6)  \n",
    "\n",
    "attentionEncoder = tf.keras.models.Model(inputs=input_img, outputs=output_layer)\n",
    "attentionEncoder.summary()"
   ]
  },
  {
   "cell_type": "code",
   "execution_count": null,
   "id": "4a515ce8",
   "metadata": {},
   "outputs": [],
   "source": [
    "attentionEncoder.compile(optimizer=tf.keras.optimizers.Adam(learning_rate=1e-4), loss=cross_similarity)\n",
    "\n",
    "attentionEncoder.fit(\n",
    "    trainData.repeat(),\n",
    "    epochs=20,\n",
    "    steps_per_epoch=50)"
   ]
  },
  {
   "cell_type": "code",
   "execution_count": 37,
   "id": "30a07c16",
   "metadata": {},
   "outputs": [
    {
     "name": "stdout",
     "output_type": "stream",
     "text": [
      "\u001b[1m1/1\u001b[0m \u001b[32m━━━━━━━━━━━━━━━━━━━━\u001b[0m\u001b[37m\u001b[0m \u001b[1m0s\u001b[0m 61ms/step\n"
     ]
    },
    {
     "data": {
      "image/png": "[encoded data removed]",
      "text/plain": [
       "<Figure size 640x480 with 1 Axes>"
      ]
     },
     "metadata": {},
     "output_type": "display_data"
    }
   ],
   "source": [
    "prediction6 = attentionEncoder.predict(testImg)\n",
    "plt.imshow(prediction6[0], cmap='gray');"
   ]
  },
  {
   "cell_type": "code",
   "execution_count": null,
   "id": "4a1dda92",
   "metadata": {},
   "outputs": [],
   "source": [
    "attentionEncoder.save(r'models\\AttentionEncoder.keras')"
   ]
  },
  {
   "cell_type": "markdown",
   "id": "1fdc912b",
   "metadata": {},
   "source": [
    "# **Ensemble**"
   ]
  },
  {
   "cell_type": "code",
   "execution_count": 14,
   "id": "35b3fa86",
   "metadata": {},
   "outputs": [],
   "source": [
    "def ensemble_prediction(models, input_data, method='average', weights=None):\n",
    "    if isinstance(input_data, tf.data.Dataset):\n",
    "        all_outputs = []\n",
    "        for batch in input_data:\n",
    "            if isinstance(batch, tuple):\n",
    "                batch = batch[0]\n",
    "            batch_outputs = [model.predict(batch, verbose=0) for model in models]\n",
    "            batch_outputs = tf.stack(batch_outputs, axis=0) \n",
    "            \n",
    "            if method == 'average':\n",
    "                ensemble_batch = tf.reduce_mean(batch_outputs, axis=0)\n",
    "            elif method == 'weighted':\n",
    "                if weights is None or len(weights) != len(models):\n",
    "                    raise ValueError(\"Weights must be provided and match number of models.\")\n",
    "                weights_tensor = tf.reshape(tf.convert_to_tensor(weights, dtype=tf.float32), (-1, 1, 1, 1, 1))  \n",
    "                ensemble_batch = tf.reduce_sum(batch_outputs * weights_tensor, axis=0)\n",
    "            else:\n",
    "                raise ValueError(f\"Unknown ensemble method: {method}\")\n",
    "                \n",
    "            all_outputs.append(ensemble_batch)\n",
    "\n",
    "        return tf.concat(all_outputs, axis=0)\n",
    "\n",
    "    else:\n",
    "        outputs = [model.predict(input_data, verbose=0) for model in models]\n",
    "        outputs = tf.stack(outputs, axis=0)  \n",
    "\n",
    "        if method == 'average':\n",
    "            return tf.reduce_mean(outputs, axis=0)\n",
    "\n",
    "        elif method == 'weighted':\n",
    "            if weights is None or len(weights) != len(models):\n",
    "                raise ValueError(\"Weights must be provided and match number of models.\")\n",
    "            weights_tensor = tf.reshape(tf.convert_to_tensor(weights, dtype=tf.float32), (-1, 1, 1, 1, 1))  \n",
    "            return tf.reduce_sum(outputs * weights_tensor, axis=0)\n",
    "\n",
    "        else:\n",
    "            raise ValueError(f\"Unknown ensemble method: {method}\")\n"
   ]
  },
  {
   "cell_type": "code",
   "execution_count": 12,
   "id": "a7495e5b",
   "metadata": {},
   "outputs": [],
   "source": [
    "unet_1_encoder= tf.keras.models.load_model(r\"C:\\Users\\LENOVO\\Desktop\\Auto-Forest\\models\\UnetInspired.keras\",\n",
    "                                          custom_objects={'cross_similarity': cross_similarity})\n",
    "\n",
    "unet_2_enocder= tf.keras.models.load_model(r\"C:\\Users\\LENOVO\\Desktop\\Auto-Forest\\models\\Unet2.keras\",\n",
    "                                          custom_objects={'cross_similarity': cross_similarity})\n",
    "\n",
    "residual_skip_encoder= tf.keras.models.load_model(r\"C:\\Users\\LENOVO\\Desktop\\Auto-Forest\\models\\UResNetEncoder.keras\",\n",
    "                                          custom_objects={'cross_similarity': cross_similarity})\n",
    "\n",
    "attention_encoder= tf.keras.models.load_model(r\"C:\\Users\\LENOVO\\Desktop\\Auto-Forest\\models\\AttentionEncoder.keras\",\n",
    "                                          custom_objects={'cross_similarity': cross_similarity})"
   ]
  },
  {
   "cell_type": "code",
   "execution_count": 43,
   "id": "6d76bf79",
   "metadata": {},
   "outputs": [
    {
     "name": "stdout",
     "output_type": "stream",
     "text": [
      "WARNING:tensorflow:5 out of the last 13 calls to <function TensorFlowTrainer.make_predict_function.<locals>.one_step_on_data_distributed at 0x0000013E3E2289A0> triggered tf.function retracing. Tracing is expensive and the excessive number of tracings could be due to (1) creating @tf.function repeatedly in a loop, (2) passing tensors with different shapes, (3) passing Python objects instead of tensors. For (1), please define your @tf.function outside of the loop. For (2), @tf.function has reduce_retracing=True option that can avoid unnecessary retracing. For (3), please refer to https://www.tensorflow.org/guide/function#controlling_retracing and https://www.tensorflow.org/api_docs/python/tf/function for  more details.\n",
      "WARNING:tensorflow:5 out of the last 13 calls to <function TensorFlowTrainer.make_predict_function.<locals>.one_step_on_data_distributed at 0x0000013E3E229440> triggered tf.function retracing. Tracing is expensive and the excessive number of tracings could be due to (1) creating @tf.function repeatedly in a loop, (2) passing tensors with different shapes, (3) passing Python objects instead of tensors. For (1), please define your @tf.function outside of the loop. For (2), @tf.function has reduce_retracing=True option that can avoid unnecessary retracing. For (3), please refer to https://www.tensorflow.org/guide/function#controlling_retracing and https://www.tensorflow.org/api_docs/python/tf/function for  more details.\n"
     ]
    }
   ],
   "source": [
    "models = [unet_1_encoder, unet_2_enocder, residual_skip_encoder, attention_encoder]\n",
    "\n",
    "predictionAgg = ensemble_prediction(models, trainData.take(1), method='average')"
   ]
  },
  {
   "cell_type": "code",
   "execution_count": 47,
   "id": "bf25456e",
   "metadata": {},
   "outputs": [
    {
     "name": "stdout",
     "output_type": "stream",
     "text": [
      "96\n"
     ]
    },
    {
     "data": {
      "image/png": "[encoded data removed]",
      "text/plain": [
       "<Figure size 640x480 with 1 Axes>"
      ]
     },
     "metadata": {},
     "output_type": "display_data"
    }
   ],
   "source": [
    "print(len(predictionAgg))\n",
    "plt.imshow(predictionAgg[9], cmap='gray');"
   ]
  },
  {
   "cell_type": "markdown",
   "id": "599ce7eb",
   "metadata": {},
   "source": [
    "# **Classification**"
   ]
  },
  {
   "cell_type": "code",
   "execution_count": 14,
   "id": "3404e2b5",
   "metadata": {},
   "outputs": [
    {
     "name": "stdout",
     "output_type": "stream",
     "text": [
      "0 input_layer_12\n",
      "1 conv2d\n",
      "2 batch_normalization\n",
      "3 conv2d_1\n",
      "4 batch_normalization_1\n",
      "5 max_pooling2d\n",
      "6 conv2d_2\n",
      "7 batch_normalization_2\n",
      "8 conv2d_3\n",
      "9 batch_normalization_3\n",
      "10 max_pooling2d_1\n",
      "11 conv2d_4\n",
      "12 batch_normalization_4\n",
      "13 conv2d_5\n",
      "14 batch_normalization_5\n",
      "15 max_pooling2d_2\n",
      "16 conv2d_6\n",
      "17 batch_normalization_6\n",
      "18 conv2d_7\n",
      "19 batch_normalization_7\n",
      "20 conv2d_transpose\n",
      "21 conv2d_8\n",
      "22 conv2d_9\n",
      "23 add\n",
      "24 activation\n",
      "25 conv2d_10\n",
      "26 activation_1\n",
      "27 multiply\n",
      "28 concatenate\n",
      "29 conv2d_11\n",
      "30 batch_normalization_8\n",
      "31 conv2d_12\n",
      "32 batch_normalization_9\n",
      "33 conv2d_transpose_1\n",
      "34 conv2d_13\n",
      "35 conv2d_14\n",
      "36 add_1\n",
      "37 activation_2\n",
      "38 conv2d_15\n",
      "39 activation_3\n",
      "40 multiply_1\n",
      "41 concatenate_1\n",
      "42 conv2d_16\n",
      "43 batch_normalization_10\n",
      "44 conv2d_17\n",
      "45 batch_normalization_11\n",
      "46 conv2d_transpose_2\n",
      "47 conv2d_18\n",
      "48 conv2d_19\n",
      "49 add_2\n",
      "50 activation_4\n",
      "51 conv2d_20\n",
      "52 activation_5\n",
      "53 multiply_2\n",
      "54 concatenate_2\n",
      "55 conv2d_21\n",
      "56 batch_normalization_12\n",
      "57 conv2d_22\n",
      "58 batch_normalization_13\n",
      "59 conv2d_23\n"
     ]
    }
   ],
   "source": [
    "for i, layer in enumerate(attention_encoder.layers):\n",
    "    print(i, layer.name)"
   ]
  },
  {
   "cell_type": "markdown",
   "id": "c8cabe1f",
   "metadata": {},
   "source": [
    "Latent Layers of following models:\n",
    "- UnetMS/UnetInspired: `conv2d_11`\n",
    "- Unet2: `conv2d_284`\n",
    "- UResNet: `conv2d_59`\n",
    "- Attention: `batch_normalization_7`"
   ]
  },
  {
   "cell_type": "code",
   "execution_count": 13,
   "id": "51cfa398",
   "metadata": {},
   "outputs": [],
   "source": [
    "models = [unet_1_encoder, unet_2_enocder, residual_skip_encoder, attention_encoder]\n",
    "latent_layers = ['conv2d_11', 'conv2d_284', 'conv2d_59', 'batch_normalization_7']"
   ]
  },
  {
   "cell_type": "code",
   "execution_count": 14,
   "id": "20df1696",
   "metadata": {},
   "outputs": [],
   "source": [
    "def evaluate(models, input_data):\n",
    "    input_data = input_data.prefetch(tf.data.AUTOTUNE)\n",
    "    all_losses = []\n",
    "\n",
    "    @tf.function\n",
    "    def compute_losses(x_batch, y_batch):\n",
    "        batch_size = tf.shape(x_batch)[0]\n",
    "        model_losses = []\n",
    "        \n",
    "        for model in models:\n",
    "            predictions = model(x_batch, training=False)\n",
    "            loss = model.compute_loss(x_batch, y_batch, predictions)\n",
    "            if len(tf.shape(loss)) == 0:  \n",
    "                loss = tf.repeat(loss, batch_size)\n",
    "            model_losses.append(loss)\n",
    "            \n",
    "        return tf.stack(model_losses, axis=0)\n",
    "\n",
    "    for batch in input_data:\n",
    "        if isinstance(batch, tuple):\n",
    "            x_batch, y_batch = batch\n",
    "        else:\n",
    "            x_batch = y_batch = batch\n",
    "\n",
    "        batch_losses = compute_losses(x_batch, y_batch)\n",
    "        all_losses.append(batch_losses)\n",
    "\n",
    "    if not all_losses:\n",
    "        return tf.zeros([0, len(models)])\n",
    "        \n",
    "    concatenated = tf.concat(all_losses, axis=1)\n",
    "    \n",
    "    return tf.transpose(concatenated)"
   ]
  },
  {
   "cell_type": "code",
   "execution_count": 15,
   "id": "a332cf9e",
   "metadata": {},
   "outputs": [],
   "source": [
    "def build_latent_models(models, latent_layer_names):\n",
    "    return [tf.keras.Model(inputs=m.input, outputs=m.get_layer(name).output)\n",
    "            for m, name in zip(models, latent_layer_names)]\n",
    "\n",
    "def latent_outputs(models, input_data, latent_layer_names):\n",
    "    input_data = input_data.prefetch(tf.data.AUTOTUNE)\n",
    "    latent_models = build_latent_models(models, latent_layer_names)\n",
    "    latent_matrix = []\n",
    "\n",
    "    @tf.function\n",
    "    def compute_latents(x_batch):\n",
    "        latents = [tf.reshape(latent_model(x_batch, training=False), [tf.shape(x_batch)[0], -1])\n",
    "                   for latent_model in latent_models]\n",
    "        return tf.concat(latents, axis=1)\n",
    "\n",
    "    for batch in input_data:\n",
    "        if isinstance(batch, tuple):\n",
    "            x_batch, _ = batch\n",
    "        else:\n",
    "            x_batch = batch\n",
    "\n",
    "        concat_latents = compute_latents(x_batch)\n",
    "        latent_matrix.append(concat_latents)\n",
    "\n",
    "    return tf.concat(latent_matrix, axis=0)"
   ]
  },
  {
   "cell_type": "code",
   "execution_count": 16,
   "id": "d1c475f2",
   "metadata": {},
   "outputs": [],
   "source": [
    "def concat(models, input_data, latent_layer_names, label=True):\n",
    "    if isinstance(input_data, tf.data.Dataset):\n",
    "        loss = evaluate(models=models, input_data=input_data)\n",
    "        latent = latent_outputs(models=models, input_data=input_data, latent_layer_names=latent_layer_names)\n",
    "        input_len = tf.shape(loss)[0].numpy()\n",
    "        print(input_len)\n",
    "        print(tf.shape(latent)[0])\n",
    "        labels = tf.ones((input_len, 1), dtype=tf.float32) if label else tf.zeros((input_len, 1), dtype=tf.float32)\n",
    "\n",
    "        concat_data = tf.concat([loss, latent], axis=1)\n",
    "        labeled_dataset = tf.data.Dataset.from_tensor_slices((concat_data, labels)).prefetch(tf.data.AUTOTUNE)\n",
    "\n",
    "        return labeled_dataset"
   ]
  },
  {
   "cell_type": "code",
   "execution_count": 17,
   "id": "becd0c72",
   "metadata": {},
   "outputs": [],
   "source": [
    "def concat_seen_unseen(models, seen_data, unseen_data, latent_layer_names):\n",
    "    seen = concat(models, seen_data, latent_layer_names, label=True)\n",
    "    unseen = concat(models, unseen_data, latent_layer_names, label=False)  \n",
    "    return seen.concatenate(unseen).prefetch(tf.data.AUTOTUNE)"
   ]
  },
  {
   "cell_type": "markdown",
   "id": "0c9e01bb",
   "metadata": {},
   "source": [
    "### **1. Threshold Data Prep**"
   ]
  },
  {
   "cell_type": "code",
   "execution_count": 18,
   "id": "8bf5f2f3",
   "metadata": {},
   "outputs": [
    {
     "name": "stdout",
     "output_type": "stream",
     "text": [
      "Found 208 files.\n"
     ]
    }
   ],
   "source": [
    "UNSEEN_PATH = r\"C:\\Users\\LENOVO\\Desktop\\Unseen\"\n",
    "\n",
    "unseen_ds = tf.keras.utils.image_dataset_from_directory(\n",
    "    UNSEEN_PATH,\n",
    "    seed=69,\n",
    "    color_mode='grayscale',\n",
    "    image_size=IMG_SIZE[0:2],\n",
    "    batch_size=BATCH_SIZE,\n",
    "    label_mode=None\n",
    ")"
   ]
  },
  {
   "cell_type": "code",
   "execution_count": 19,
   "id": "d40707bf",
   "metadata": {},
   "outputs": [
    {
     "data": {
      "text/plain": [
       "<_PrefetchDataset element_spec=(TensorSpec(shape=(None, 120, 120, 1), dtype=tf.float32, name=None), TensorSpec(shape=(None, 120, 120, 1), dtype=tf.float32, name=None))>"
      ]
     },
     "execution_count": 19,
     "metadata": {},
     "output_type": "execute_result"
    }
   ],
   "source": [
    "unseenData = dataset_preparation(unseen_ds, augments, preprocess)\n",
    "unseenData"
   ]
  },
  {
   "cell_type": "code",
   "execution_count": 20,
   "id": "14ed5bc5",
   "metadata": {},
   "outputs": [
    {
     "name": "stdout",
     "output_type": "stream",
     "text": [
      "4512\n",
      "tf.Tensor(4512, shape=(), dtype=int32)\n",
      "4576\n",
      "tf.Tensor(4576, shape=(), dtype=int32)\n"
     ]
    }
   ],
   "source": [
    "threshData = concat_seen_unseen(models, trainData.shuffle(50, seed=8).take(47), unseenData.repeat(2), latent_layers)"
   ]
  },
  {
   "cell_type": "code",
   "execution_count": 21,
   "id": "155febcb",
   "metadata": {},
   "outputs": [],
   "source": [
    "threshData = threshData.batch(64).unbatch().shuffle(9088, seed=12).batch(64)"
   ]
  },
  {
   "cell_type": "code",
   "execution_count": 22,
   "id": "f8a2eb97",
   "metadata": {},
   "outputs": [],
   "source": [
    "no_of_batches = 142\n",
    "\n",
    "train_spilt = int(0.8*no_of_batches)\n",
    "\n",
    "threshTrain = threshData.take(train_spilt).prefetch(tf.data.AUTOTUNE)\n",
    "threshTest = threshData.skip(train_spilt).prefetch(tf.data.AUTOTUNE)"
   ]
  },
  {
   "cell_type": "code",
   "execution_count": null,
   "id": "987d997d",
   "metadata": {},
   "outputs": [],
   "source": [
    "def count(data):\n",
    "    for _, y in data:\n",
    "        print(y)\n",
    "\n",
    "count(threshTrain.take(2))"
   ]
  },
  {
   "cell_type": "markdown",
   "id": "8964bcdf",
   "metadata": {},
   "source": [
    "### **Threshold Model Training**"
   ]
  },
  {
   "cell_type": "code",
   "execution_count": 23,
   "id": "f1d35fc4",
   "metadata": {},
   "outputs": [
    {
     "data": {
      "text/html": [
       "<pre style=\"white-space:pre;overflow-x:auto;line-height:normal;font-family:Menlo,'DejaVu Sans Mono',consolas,'Courier New',monospace\"><span style=\"font-weight: bold\">Model: \"sequential_10\"</span>\n",
       "</pre>\n"
      ],
      "text/plain": [
       "\u001b[1mModel: \"sequential_10\"\u001b[0m\n"
      ]
     },
     "metadata": {},
     "output_type": "display_data"
    },
    {
     "data": {
      "text/html": [
       "<pre style=\"white-space:pre;overflow-x:auto;line-height:normal;font-family:Menlo,'DejaVu Sans Mono',consolas,'Courier New',monospace\">┏━━━━━━━━━━━━━━━━━━━━━━━━━━━━━━━━━┳━━━━━━━━━━━━━━━━━━━━━━━━┳━━━━━━━━━━━━━━━┓\n",
       "┃<span style=\"font-weight: bold\"> Layer (type)                    </span>┃<span style=\"font-weight: bold\"> Output Shape           </span>┃<span style=\"font-weight: bold\">       Param # </span>┃\n",
       "┡━━━━━━━━━━━━━━━━━━━━━━━━━━━━━━━━━╇━━━━━━━━━━━━━━━━━━━━━━━━╇━━━━━━━━━━━━━━━┩\n",
       "│ dense (<span style=\"color: #0087ff; text-decoration-color: #0087ff\">Dense</span>)                   │ (<span style=\"color: #00d7ff; text-decoration-color: #00d7ff\">None</span>, <span style=\"color: #00af00; text-decoration-color: #00af00\">2048</span>)           │   <span style=\"color: #00af00; text-decoration-color: #00af00\">338,700,288</span> │\n",
       "├─────────────────────────────────┼────────────────────────┼───────────────┤\n",
       "│ batch_normalization             │ (<span style=\"color: #00d7ff; text-decoration-color: #00d7ff\">None</span>, <span style=\"color: #00af00; text-decoration-color: #00af00\">2048</span>)           │         <span style=\"color: #00af00; text-decoration-color: #00af00\">8,192</span> │\n",
       "│ (<span style=\"color: #0087ff; text-decoration-color: #0087ff\">BatchNormalization</span>)            │                        │               │\n",
       "├─────────────────────────────────┼────────────────────────┼───────────────┤\n",
       "│ dropout (<span style=\"color: #0087ff; text-decoration-color: #0087ff\">Dropout</span>)               │ (<span style=\"color: #00d7ff; text-decoration-color: #00d7ff\">None</span>, <span style=\"color: #00af00; text-decoration-color: #00af00\">2048</span>)           │             <span style=\"color: #00af00; text-decoration-color: #00af00\">0</span> │\n",
       "├─────────────────────────────────┼────────────────────────┼───────────────┤\n",
       "│ dense_1 (<span style=\"color: #0087ff; text-decoration-color: #0087ff\">Dense</span>)                 │ (<span style=\"color: #00d7ff; text-decoration-color: #00d7ff\">None</span>, <span style=\"color: #00af00; text-decoration-color: #00af00\">1024</span>)           │     <span style=\"color: #00af00; text-decoration-color: #00af00\">2,098,176</span> │\n",
       "├─────────────────────────────────┼────────────────────────┼───────────────┤\n",
       "│ batch_normalization_1           │ (<span style=\"color: #00d7ff; text-decoration-color: #00d7ff\">None</span>, <span style=\"color: #00af00; text-decoration-color: #00af00\">1024</span>)           │         <span style=\"color: #00af00; text-decoration-color: #00af00\">4,096</span> │\n",
       "│ (<span style=\"color: #0087ff; text-decoration-color: #0087ff\">BatchNormalization</span>)            │                        │               │\n",
       "├─────────────────────────────────┼────────────────────────┼───────────────┤\n",
       "│ dropout_1 (<span style=\"color: #0087ff; text-decoration-color: #0087ff\">Dropout</span>)             │ (<span style=\"color: #00d7ff; text-decoration-color: #00d7ff\">None</span>, <span style=\"color: #00af00; text-decoration-color: #00af00\">1024</span>)           │             <span style=\"color: #00af00; text-decoration-color: #00af00\">0</span> │\n",
       "├─────────────────────────────────┼────────────────────────┼───────────────┤\n",
       "│ dense_2 (<span style=\"color: #0087ff; text-decoration-color: #0087ff\">Dense</span>)                 │ (<span style=\"color: #00d7ff; text-decoration-color: #00d7ff\">None</span>, <span style=\"color: #00af00; text-decoration-color: #00af00\">256</span>)            │       <span style=\"color: #00af00; text-decoration-color: #00af00\">262,400</span> │\n",
       "├─────────────────────────────────┼────────────────────────┼───────────────┤\n",
       "│ batch_normalization_2           │ (<span style=\"color: #00d7ff; text-decoration-color: #00d7ff\">None</span>, <span style=\"color: #00af00; text-decoration-color: #00af00\">256</span>)            │         <span style=\"color: #00af00; text-decoration-color: #00af00\">1,024</span> │\n",
       "│ (<span style=\"color: #0087ff; text-decoration-color: #0087ff\">BatchNormalization</span>)            │                        │               │\n",
       "├─────────────────────────────────┼────────────────────────┼───────────────┤\n",
       "│ dropout_2 (<span style=\"color: #0087ff; text-decoration-color: #0087ff\">Dropout</span>)             │ (<span style=\"color: #00d7ff; text-decoration-color: #00d7ff\">None</span>, <span style=\"color: #00af00; text-decoration-color: #00af00\">256</span>)            │             <span style=\"color: #00af00; text-decoration-color: #00af00\">0</span> │\n",
       "├─────────────────────────────────┼────────────────────────┼───────────────┤\n",
       "│ dense_3 (<span style=\"color: #0087ff; text-decoration-color: #0087ff\">Dense</span>)                 │ (<span style=\"color: #00d7ff; text-decoration-color: #00d7ff\">None</span>, <span style=\"color: #00af00; text-decoration-color: #00af00\">64</span>)             │        <span style=\"color: #00af00; text-decoration-color: #00af00\">16,448</span> │\n",
       "├─────────────────────────────────┼────────────────────────┼───────────────┤\n",
       "│ batch_normalization_3           │ (<span style=\"color: #00d7ff; text-decoration-color: #00d7ff\">None</span>, <span style=\"color: #00af00; text-decoration-color: #00af00\">64</span>)             │           <span style=\"color: #00af00; text-decoration-color: #00af00\">256</span> │\n",
       "│ (<span style=\"color: #0087ff; text-decoration-color: #0087ff\">BatchNormalization</span>)            │                        │               │\n",
       "├─────────────────────────────────┼────────────────────────┼───────────────┤\n",
       "│ dense_4 (<span style=\"color: #0087ff; text-decoration-color: #0087ff\">Dense</span>)                 │ (<span style=\"color: #00d7ff; text-decoration-color: #00d7ff\">None</span>, <span style=\"color: #00af00; text-decoration-color: #00af00\">1</span>)              │            <span style=\"color: #00af00; text-decoration-color: #00af00\">65</span> │\n",
       "└─────────────────────────────────┴────────────────────────┴───────────────┘\n",
       "</pre>\n"
      ],
      "text/plain": [
       "┏━━━━━━━━━━━━━━━━━━━━━━━━━━━━━━━━━┳━━━━━━━━━━━━━━━━━━━━━━━━┳━━━━━━━━━━━━━━━┓\n",
       "┃\u001b[1m \u001b[0m\u001b[1mLayer (type)                   \u001b[0m\u001b[1m \u001b[0m┃\u001b[1m \u001b[0m\u001b[1mOutput Shape          \u001b[0m\u001b[1m \u001b[0m┃\u001b[1m \u001b[0m\u001b[1m      Param #\u001b[0m\u001b[1m \u001b[0m┃\n",
       "┡━━━━━━━━━━━━━━━━━━━━━━━━━━━━━━━━━╇━━━━━━━━━━━━━━━━━━━━━━━━╇━━━━━━━━━━━━━━━┩\n",
       "│ dense (\u001b[38;5;33mDense\u001b[0m)                   │ (\u001b[38;5;45mNone\u001b[0m, \u001b[38;5;34m2048\u001b[0m)           │   \u001b[38;5;34m338,700,288\u001b[0m │\n",
       "├─────────────────────────────────┼────────────────────────┼───────────────┤\n",
       "│ batch_normalization             │ (\u001b[38;5;45mNone\u001b[0m, \u001b[38;5;34m2048\u001b[0m)           │         \u001b[38;5;34m8,192\u001b[0m │\n",
       "│ (\u001b[38;5;33mBatchNormalization\u001b[0m)            │                        │               │\n",
       "├─────────────────────────────────┼────────────────────────┼───────────────┤\n",
       "│ dropout (\u001b[38;5;33mDropout\u001b[0m)               │ (\u001b[38;5;45mNone\u001b[0m, \u001b[38;5;34m2048\u001b[0m)           │             \u001b[38;5;34m0\u001b[0m │\n",
       "├─────────────────────────────────┼────────────────────────┼───────────────┤\n",
       "│ dense_1 (\u001b[38;5;33mDense\u001b[0m)                 │ (\u001b[38;5;45mNone\u001b[0m, \u001b[38;5;34m1024\u001b[0m)           │     \u001b[38;5;34m2,098,176\u001b[0m │\n",
       "├─────────────────────────────────┼────────────────────────┼───────────────┤\n",
       "│ batch_normalization_1           │ (\u001b[38;5;45mNone\u001b[0m, \u001b[38;5;34m1024\u001b[0m)           │         \u001b[38;5;34m4,096\u001b[0m │\n",
       "│ (\u001b[38;5;33mBatchNormalization\u001b[0m)            │                        │               │\n",
       "├─────────────────────────────────┼────────────────────────┼───────────────┤\n",
       "│ dropout_1 (\u001b[38;5;33mDropout\u001b[0m)             │ (\u001b[38;5;45mNone\u001b[0m, \u001b[38;5;34m1024\u001b[0m)           │             \u001b[38;5;34m0\u001b[0m │\n",
       "├─────────────────────────────────┼────────────────────────┼───────────────┤\n",
       "│ dense_2 (\u001b[38;5;33mDense\u001b[0m)                 │ (\u001b[38;5;45mNone\u001b[0m, \u001b[38;5;34m256\u001b[0m)            │       \u001b[38;5;34m262,400\u001b[0m │\n",
       "├─────────────────────────────────┼────────────────────────┼───────────────┤\n",
       "│ batch_normalization_2           │ (\u001b[38;5;45mNone\u001b[0m, \u001b[38;5;34m256\u001b[0m)            │         \u001b[38;5;34m1,024\u001b[0m │\n",
       "│ (\u001b[38;5;33mBatchNormalization\u001b[0m)            │                        │               │\n",
       "├─────────────────────────────────┼────────────────────────┼───────────────┤\n",
       "│ dropout_2 (\u001b[38;5;33mDropout\u001b[0m)             │ (\u001b[38;5;45mNone\u001b[0m, \u001b[38;5;34m256\u001b[0m)            │             \u001b[38;5;34m0\u001b[0m │\n",
       "├─────────────────────────────────┼────────────────────────┼───────────────┤\n",
       "│ dense_3 (\u001b[38;5;33mDense\u001b[0m)                 │ (\u001b[38;5;45mNone\u001b[0m, \u001b[38;5;34m64\u001b[0m)             │        \u001b[38;5;34m16,448\u001b[0m │\n",
       "├─────────────────────────────────┼────────────────────────┼───────────────┤\n",
       "│ batch_normalization_3           │ (\u001b[38;5;45mNone\u001b[0m, \u001b[38;5;34m64\u001b[0m)             │           \u001b[38;5;34m256\u001b[0m │\n",
       "│ (\u001b[38;5;33mBatchNormalization\u001b[0m)            │                        │               │\n",
       "├─────────────────────────────────┼────────────────────────┼───────────────┤\n",
       "│ dense_4 (\u001b[38;5;33mDense\u001b[0m)                 │ (\u001b[38;5;45mNone\u001b[0m, \u001b[38;5;34m1\u001b[0m)              │            \u001b[38;5;34m65\u001b[0m │\n",
       "└─────────────────────────────────┴────────────────────────┴───────────────┘\n"
      ]
     },
     "metadata": {},
     "output_type": "display_data"
    },
    {
     "data": {
      "text/html": [
       "<pre style=\"white-space:pre;overflow-x:auto;line-height:normal;font-family:Menlo,'DejaVu Sans Mono',consolas,'Courier New',monospace\"><span style=\"font-weight: bold\"> Total params: </span><span style=\"color: #00af00; text-decoration-color: #00af00\">341,090,945</span> (1.27 GB)\n",
       "</pre>\n"
      ],
      "text/plain": [
       "\u001b[1m Total params: \u001b[0m\u001b[38;5;34m341,090,945\u001b[0m (1.27 GB)\n"
      ]
     },
     "metadata": {},
     "output_type": "display_data"
    },
    {
     "data": {
      "text/html": [
       "<pre style=\"white-space:pre;overflow-x:auto;line-height:normal;font-family:Menlo,'DejaVu Sans Mono',consolas,'Courier New',monospace\"><span style=\"font-weight: bold\"> Trainable params: </span><span style=\"color: #00af00; text-decoration-color: #00af00\">341,084,161</span> (1.27 GB)\n",
       "</pre>\n"
      ],
      "text/plain": [
       "\u001b[1m Trainable params: \u001b[0m\u001b[38;5;34m341,084,161\u001b[0m (1.27 GB)\n"
      ]
     },
     "metadata": {},
     "output_type": "display_data"
    },
    {
     "data": {
      "text/html": [
       "<pre style=\"white-space:pre;overflow-x:auto;line-height:normal;font-family:Menlo,'DejaVu Sans Mono',consolas,'Courier New',monospace\"><span style=\"font-weight: bold\"> Non-trainable params: </span><span style=\"color: #00af00; text-decoration-color: #00af00\">6,784</span> (26.50 KB)\n",
       "</pre>\n"
      ],
      "text/plain": [
       "\u001b[1m Non-trainable params: \u001b[0m\u001b[38;5;34m6,784\u001b[0m (26.50 KB)\n"
      ]
     },
     "metadata": {},
     "output_type": "display_data"
    }
   ],
   "source": [
    "thresholdModel = tf.keras.models.Sequential([\n",
    "    tf.keras.layers.Input(shape=(165380,)),\n",
    "    tf.keras.layers.Dense(2048, activation='relu'),\n",
    "    tf.keras.layers.BatchNormalization(),\n",
    "    tf.keras.layers.Dropout(0.4),\n",
    "    tf.keras.layers.Dense(1024, activation='relu'),\n",
    "    tf.keras.layers.BatchNormalization(),\n",
    "    tf.keras.layers.Dropout(0.3),\n",
    "    tf.keras.layers.Dense(256, activation='relu'),\n",
    "    tf.keras.layers.BatchNormalization(),\n",
    "    tf.keras.layers.Dropout(0.2),\n",
    "    tf.keras.layers.Dense(64, activation='relu'),\n",
    "    tf.keras.layers.BatchNormalization(),\n",
    "    tf.keras.layers.Dense(1, activation='sigmoid') \n",
    "])\n",
    "\n",
    "thresholdModel.compile(loss=tf.keras.losses.BinaryCrossentropy(),\n",
    "                       optimizer=tf.keras.optimizers.Adam(learning_rate=1e-5),\n",
    "                       metrics=['accuracy', tf.keras.metrics.Precision(), tf.keras.metrics.Recall(), tf.keras.metrics.AUC()])\n",
    "\n",
    "thresholdModel.summary()"
   ]
  },
  {
   "cell_type": "code",
   "execution_count": null,
   "id": "2dd72d50",
   "metadata": {},
   "outputs": [],
   "source": [
    "callbacks = [tf.keras.callbacks.EarlyStopping(patience=5, restore_best_weights=True,monitor='recall'),\n",
    "             tf.keras.callbacks.ModelCheckpoint(r'C:\\Users\\LENOVO\\Desktop\\BestThresholdPredictor.keras', save_best_only=True, monitor='recall')]"
   ]
  },
  {
   "cell_type": "code",
   "execution_count": 27,
   "id": "c5c12b2f",
   "metadata": {},
   "outputs": [
    {
     "name": "stdout",
     "output_type": "stream",
     "text": [
      "Epoch 1/20\n",
      "\u001b[1m71/71\u001b[0m \u001b[32m━━━━━━━━━━━━━━━━━━━━\u001b[0m\u001b[37m\u001b[0m \u001b[1m228s\u001b[0m 3s/step - accuracy: 0.7640 - auc: 0.8470 - loss: 0.4879 - precision: 0.7406 - recall: 0.7902\n",
      "Epoch 2/20\n",
      "\u001b[1m71/71\u001b[0m \u001b[32m━━━━━━━━━━━━━━━━━━━━\u001b[0m\u001b[37m\u001b[0m \u001b[1m166s\u001b[0m 2s/step - accuracy: 0.7659 - auc: 0.8592 - loss: 0.4702 - precision: 0.7650 - recall: 0.7788\n",
      "Epoch 3/20\n",
      "\u001b[1m71/71\u001b[0m \u001b[32m━━━━━━━━━━━━━━━━━━━━\u001b[0m\u001b[37m\u001b[0m \u001b[1m116s\u001b[0m 2s/step - accuracy: 0.7882 - auc: 0.8757 - loss: 0.4418 - precision: 0.7715 - recall: 0.8121\n",
      "Epoch 4/20\n",
      "\u001b[1m71/71\u001b[0m \u001b[32m━━━━━━━━━━━━━━━━━━━━\u001b[0m\u001b[37m\u001b[0m \u001b[1m144s\u001b[0m 2s/step - accuracy: 0.7822 - auc: 0.8727 - loss: 0.4461 - precision: 0.7828 - recall: 0.7905\n",
      "Epoch 5/20\n",
      "\u001b[1m71/71\u001b[0m \u001b[32m━━━━━━━━━━━━━━━━━━━━\u001b[0m\u001b[37m\u001b[0m \u001b[1m139s\u001b[0m 2s/step - accuracy: 0.8014 - auc: 0.8818 - loss: 0.4320 - precision: 0.7991 - recall: 0.8033\n",
      "Epoch 6/20\n",
      "\u001b[1m71/71\u001b[0m \u001b[32m━━━━━━━━━━━━━━━━━━━━\u001b[0m\u001b[37m\u001b[0m \u001b[1m116s\u001b[0m 2s/step - accuracy: 0.8053 - auc: 0.8918 - loss: 0.4153 - precision: 0.7902 - recall: 0.8136\n",
      "Epoch 7/20\n",
      "\u001b[1m71/71\u001b[0m \u001b[32m━━━━━━━━━━━━━━━━━━━━\u001b[0m\u001b[37m\u001b[0m \u001b[1m146s\u001b[0m 2s/step - accuracy: 0.8048 - auc: 0.8920 - loss: 0.4107 - precision: 0.8011 - recall: 0.8145\n",
      "Epoch 8/20\n",
      "\u001b[1m71/71\u001b[0m \u001b[32m━━━━━━━━━━━━━━━━━━━━\u001b[0m\u001b[37m\u001b[0m \u001b[1m140s\u001b[0m 2s/step - accuracy: 0.8185 - auc: 0.9065 - loss: 0.3863 - precision: 0.8065 - recall: 0.8325\n",
      "Epoch 9/20\n",
      "\u001b[1m71/71\u001b[0m \u001b[32m━━━━━━━━━━━━━━━━━━━━\u001b[0m\u001b[37m\u001b[0m \u001b[1m118s\u001b[0m 2s/step - accuracy: 0.8125 - auc: 0.8952 - loss: 0.4089 - precision: 0.8105 - recall: 0.8188\n",
      "Epoch 10/20\n",
      "\u001b[1m71/71\u001b[0m \u001b[32m━━━━━━━━━━━━━━━━━━━━\u001b[0m\u001b[37m\u001b[0m \u001b[1m151s\u001b[0m 2s/step - accuracy: 0.8302 - auc: 0.9127 - loss: 0.3741 - precision: 0.8027 - recall: 0.8613\n",
      "Epoch 11/20\n",
      "\u001b[1m71/71\u001b[0m \u001b[32m━━━━━━━━━━━━━━━━━━━━\u001b[0m\u001b[37m\u001b[0m \u001b[1m116s\u001b[0m 2s/step - accuracy: 0.8311 - auc: 0.9132 - loss: 0.3724 - precision: 0.8359 - recall: 0.8294\n",
      "Epoch 12/20\n",
      "\u001b[1m71/71\u001b[0m \u001b[32m━━━━━━━━━━━━━━━━━━━━\u001b[0m\u001b[37m\u001b[0m \u001b[1m142s\u001b[0m 2s/step - accuracy: 0.8400 - auc: 0.9224 - loss: 0.3546 - precision: 0.8249 - recall: 0.8588\n",
      "Epoch 13/20\n",
      "\u001b[1m71/71\u001b[0m \u001b[32m━━━━━━━━━━━━━━━━━━━━\u001b[0m\u001b[37m\u001b[0m \u001b[1m143s\u001b[0m 2s/step - accuracy: 0.8354 - auc: 0.9198 - loss: 0.3587 - precision: 0.8178 - recall: 0.8537\n",
      "Epoch 14/20\n",
      "\u001b[1m71/71\u001b[0m \u001b[32m━━━━━━━━━━━━━━━━━━━━\u001b[0m\u001b[37m\u001b[0m \u001b[1m116s\u001b[0m 2s/step - accuracy: 0.8476 - auc: 0.9282 - loss: 0.3408 - precision: 0.8393 - recall: 0.8569\n",
      "Epoch 15/20\n",
      "\u001b[1m71/71\u001b[0m \u001b[32m━━━━━━━━━━━━━━━━━━━━\u001b[0m\u001b[37m\u001b[0m \u001b[1m152s\u001b[0m 2s/step - accuracy: 0.8368 - auc: 0.9250 - loss: 0.3464 - precision: 0.8482 - recall: 0.8317\n",
      "Epoch 16/20\n",
      "\u001b[1m71/71\u001b[0m \u001b[32m━━━━━━━━━━━━━━━━━━━━\u001b[0m\u001b[37m\u001b[0m \u001b[1m139s\u001b[0m 2s/step - accuracy: 0.8511 - auc: 0.9328 - loss: 0.3303 - precision: 0.8436 - recall: 0.8588\n",
      "Epoch 17/20\n",
      "\u001b[1m71/71\u001b[0m \u001b[32m━━━━━━━━━━━━━━━━━━━━\u001b[0m\u001b[37m\u001b[0m \u001b[1m115s\u001b[0m 2s/step - accuracy: 0.8559 - auc: 0.9377 - loss: 0.3183 - precision: 0.8395 - recall: 0.8723\n",
      "Epoch 18/20\n",
      "\u001b[1m71/71\u001b[0m \u001b[32m━━━━━━━━━━━━━━━━━━━━\u001b[0m\u001b[37m\u001b[0m \u001b[1m141s\u001b[0m 2s/step - accuracy: 0.8460 - auc: 0.9274 - loss: 0.3412 - precision: 0.8377 - recall: 0.8551\n",
      "Epoch 19/20\n",
      "\u001b[1m71/71\u001b[0m \u001b[32m━━━━━━━━━━━━━━━━━━━━\u001b[0m\u001b[37m\u001b[0m \u001b[1m116s\u001b[0m 2s/step - accuracy: 0.8513 - auc: 0.9377 - loss: 0.3174 - precision: 0.8447 - recall: 0.8586\n",
      "Epoch 20/20\n",
      "\u001b[1m71/71\u001b[0m \u001b[32m━━━━━━━━━━━━━━━━━━━━\u001b[0m\u001b[37m\u001b[0m \u001b[1m132s\u001b[0m 2s/step - accuracy: 0.8584 - auc: 0.9356 - loss: 0.3240 - precision: 0.8384 - recall: 0.8744\n"
     ]
    },
    {
     "data": {
      "text/plain": [
       "<keras.src.callbacks.history.History at 0x1e5812eb440>"
      ]
     },
     "execution_count": 27,
     "metadata": {},
     "output_type": "execute_result"
    }
   ],
   "source": [
    "thresholdModel.fit(\n",
    "    threshTrain.repeat(),\n",
    "    epochs=20,\n",
    "    steps_per_epoch=71,\n",
    "    callbacks=callbacks)"
   ]
  },
  {
   "cell_type": "code",
   "execution_count": 29,
   "id": "a030cb11",
   "metadata": {},
   "outputs": [],
   "source": [
    "thresholdModel.save(r\"C:\\Users\\LENOVO\\Desktop\\ThresholdPredictor.keras\")"
   ]
  },
  {
   "cell_type": "code",
   "execution_count": 30,
   "id": "708db832",
   "metadata": {},
   "outputs": [],
   "source": [
    "def threshold_predictor(model, dataset):\n",
    "\n",
    "    @tf.function\n",
    "    def proba_predictor(dataset):\n",
    "        probs = tf.TensorArray(tf.float32, size=0, dynamic_size=True)\n",
    "        labels = tf.TensorArray(tf.float32, size=0, dynamic_size=True)\n",
    "\n",
    "        for x_batch, y_batch in dataset:\n",
    "            for i in tf.range(tf.shape(x_batch)[0]):\n",
    "                x = tf.reshape(x_batch[i], [-1])\n",
    "                pred = model(tf.expand_dims(x, 0), training=False)\n",
    "                probs = probs.write(probs.size(), pred[0][0])\n",
    "                labels = labels.write(labels.size(), y_batch[i])\n",
    "\n",
    "        return probs.stack(), labels.stack()\n",
    "    \n",
    "    y_probs, y_true = proba_predictor(dataset)\n",
    "    y_probs = y_probs.numpy()\n",
    "    y_true = y_true.numpy()\n",
    "\n",
    "    precisions, recalls, thresholds = precision_recall_curve(y_true, y_probs)\n",
    "    f1 = 2*(precisions*recalls)/(precisions + recalls + 1e-8)\n",
    "\n",
    "    best_thresh = thresholds[np.argmax(f1)]\n",
    "    best_f1 = np.max(f1)\n",
    "\n",
    "    return best_thresh, best_f1"
   ]
  },
  {
   "cell_type": "code",
   "execution_count": 44,
   "id": "7888ec2d",
   "metadata": {},
   "outputs": [],
   "source": [
    "thresholdModel = tf.keras.models.load_model(r\"C:\\Users\\LENOVO\\Desktop\\ThresholdPredictor.keras\")"
   ]
  },
  {
   "cell_type": "code",
   "execution_count": 45,
   "id": "0e855a18",
   "metadata": {},
   "outputs": [
    {
     "data": {
      "text/plain": [
       "np.float32(0.31978017)"
      ]
     },
     "execution_count": 45,
     "metadata": {},
     "output_type": "execute_result"
    }
   ],
   "source": [
    "threshold, f1 = threshold_predictor(thresholdModel, threshTest)\n",
    "threshold"
   ]
  },
  {
   "cell_type": "code",
   "execution_count": 58,
   "id": "d7024a9d",
   "metadata": {},
   "outputs": [],
   "source": [
    "def inference(predictor, data, models, latent_layers_names, threshold=0.5):\n",
    "    if isinstance(data, tf.data.Dataset):\n",
    "        loss = evaluate(models=models, input_data=data)\n",
    "        latent = latent_outputs(models=models, input_data=data, latent_layer_names=latent_layers_names)\n",
    "        concat_data = tf.concat([loss, latent], axis=1)\n",
    "\n",
    "    else:    \n",
    "        x = data\n",
    "\n",
    "        if not isinstance(x, tf.Tensor):\n",
    "            x = tf.convert_to_tensor(x, dtype=tf.float32)\n",
    "        \n",
    "        if len(x.shape) == 3:  \n",
    "            x = tf.expand_dims(x, axis=0)  \n",
    "        \n",
    "        x = tf.data.Dataset.from_tensor_slices(x).batch(32).prefetch(tf.data.AUTOTUNE)\n",
    "        \n",
    "        loss = evaluate(models=models, input_data=x)\n",
    "        latent = latent_outputs(models=models, input_data=x, latent_layer_names=latent_layers_names)\n",
    "        concat_data = tf.concat([loss, latent], axis=1)\n",
    "\n",
    "    scores = predictor(concat_data, training=False)\n",
    "    predictions = tf.cast(scores >= threshold, tf.int32)\n",
    "\n",
    "    return predictions.numpy()"
   ]
  },
  {
   "cell_type": "code",
   "execution_count": 49,
   "id": "ff27f471",
   "metadata": {},
   "outputs": [],
   "source": [
    "pred = inference(thresholdModel, trainData.take(10), models, latent_layers, threshold)"
   ]
  },
  {
   "cell_type": "code",
   "execution_count": 50,
   "id": "cad32696",
   "metadata": {},
   "outputs": [
    {
     "name": "stdout",
     "output_type": "stream",
     "text": [
      "960\n"
     ]
    },
    {
     "data": {
      "text/plain": [
       "np.int64(902)"
      ]
     },
     "execution_count": 50,
     "metadata": {},
     "output_type": "execute_result"
    }
   ],
   "source": [
    "print(len(pred))\n",
    "pred.sum()"
   ]
  },
  {
   "cell_type": "markdown",
   "id": "1f020bfc",
   "metadata": {},
   "source": [
    "## **Pipeline Testing**"
   ]
  },
  {
   "cell_type": "code",
   "execution_count": 1,
   "id": "92315f6e",
   "metadata": {},
   "outputs": [],
   "source": [
    "import AutoForestClassifier\n",
    "\n",
    "afc = AutoForestClassifier"
   ]
  },
  {
   "cell_type": "code",
   "execution_count": 2,
   "id": "119d78be",
   "metadata": {},
   "outputs": [],
   "source": [
    "pipelineTestImg = afc.load_image_from_path(r\"C:\\Users\\LENOVO\\Desktop\\New folder (3)\\20250215_143820.jpg\")"
   ]
  },
  {
   "cell_type": "code",
   "execution_count": 3,
   "id": "46882e0e",
   "metadata": {},
   "outputs": [],
   "source": [
    "classification, reconstruction = afc.AutoencoderClassifier().auto_forest_pipeline(data=pipelineTestImg)"
   ]
  },
  {
   "cell_type": "code",
   "execution_count": 4,
   "id": "15424b34",
   "metadata": {},
   "outputs": [
    {
     "data": {
      "text/plain": [
       "array('MBM', dtype='<U3')"
      ]
     },
     "execution_count": 4,
     "metadata": {},
     "output_type": "execute_result"
    }
   ],
   "source": [
    "classification"
   ]
  },
  {
   "cell_type": "code",
   "execution_count": 5,
   "id": "310584ad",
   "metadata": {},
   "outputs": [
    {
     "data": {
      "text/plain": [
       "<matplotlib.image.AxesImage at 0x1af01537530>"
      ]
     },
     "execution_count": 5,
     "metadata": {},
     "output_type": "execute_result"
    },
    {
     "data": {
      "image/png": "[encoded data removed]",
      "text/plain": [
       "<Figure size 640x480 with 1 Axes>"
      ]
     },
     "metadata": {},
     "output_type": "display_data"
    }
   ],
   "source": [
    "import matplotlib.pyplot as plt\n",
    "\n",
    "plt.imshow(reconstruction[0,:,:,:], cmap='gray')"
   ]
  },
  {
   "cell_type": "code",
   "execution_count": null,
   "id": "90fe7283",
   "metadata": {},
   "outputs": [],
   "source": []
  }
 ],
 "metadata": {
  "kernelspec": {
   "display_name": "Python 3",
   "language": "python",
   "name": "python3"
  },
  "language_info": {
   "codemirror_mode": {
    "name": "ipython",
    "version": 3
   },
   "file_extension": ".py",
   "mimetype": "text/x-python",
   "name": "python",
   "nbconvert_exporter": "python",
   "pygments_lexer": "ipython3",
   "version": "3.12.7"
  }
 },
 "nbformat": 4,
 "nbformat_minor": 5
}
